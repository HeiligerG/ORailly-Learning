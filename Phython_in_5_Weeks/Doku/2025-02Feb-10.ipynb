{
 "cells": [
  {
   "cell_type": "markdown",
   "metadata": {},
   "source": [
    "# Agenda\n",
    "\n",
    "1. Python fundamentals\n",
    "    - What are values?\n",
    "    - Storing values in variables with assignment\n",
    "    - Operators that we can use on those values\n",
    "    - Displaying with `print` and getting input from the user with `input`\n",
    "    - Comparisons and conditions with `if`/`else`\n",
    "    - Numbers (`int` and `float`)\n",
    "    - Text (`str`)\n",
    "    - A little bit about methods\n",
    "2. Loops, lists, and tuples\n",
    "    - Loops (`for` and `while`)\n",
    "    - Lists (another data type)\n",
    "        - Contrasting lists with strings\n",
    "        - List methods\n",
    "        - Lists are mutable, and what that means\n",
    "    - Turning strings into lists and back\n",
    "        - `str.split` -- turns a string into a list\n",
    "        - `str.join` -- turns a list into a string\n",
    "    - Tuples and tuple unpacking\n",
    "3. Dictionaries and files\n",
    "    - What are dicts? How do we use them?\n",
    "    - Reading from (text) files\n",
    "    - A little writing to text files\n",
    "4. Functions\n",
    "    - What are functions?\n",
    "    - Defining them\n",
    "    - Arguments and parameters\n",
    "    - Local vs. global variables\n",
    "5. Modules and packages\n",
    "    - Using modules in Python with `import`\n",
    "    - The Python standard library\n",
    "    - Downloading and using third-party packages from PyPI with `pip`\n",
    "    - Security implications\n",
    "    - What next?"
   ]
  },
  {
   "cell_type": "markdown",
   "metadata": {},
   "source": [
    "# What is a programming language?\n",
    "\n",
    "Back in the early days of computers, if you had a problem to solve, you created a computer to solve it. If you had another problem to solve, you created a new, separate computer to solve it.\n",
    "\n",
    "Pretty soon, it became clear that we should have a general-purpose computer that we can reconfigure and change to solve many different problems. The way that we would tell this computer what to do was with binary digits (bits), 1s and 0s.\n",
    "\n",
    "The good news? This worked!\n",
    "\n",
    "The bad news? It was very hard to write programs in this way.\n",
    "\n",
    "Pretty soon after that, people created *programming languages*. The idea is that we write our instructions in something that looks like English, but is translated into 1s and 0s for the computer's benefit.\n",
    "\n",
    "Python is one of hundreds of thousands of different programming languages. Each has its own advantages and disadvantages. \n",
    "\n",
    "- Python is not very fast to execute, relative to other languages\n",
    "- But Python is *very* fast to write, read (understand), and debug/maintain.\n",
    "\n",
    "Python is a great language for an age in which computers are cheap and people are expensive.\n",
    "\n",
    "- C is a very fast-to-execute language, but very complex and hard for most people, because it is \"low level,\" working much like the computer things/acts.\n",
    "- Java is higher level than C and also executes quickly, but still requires you keep track of more things than Python.\n",
    "\n",
    "# Where is Python used?\n",
    "\n",
    "- Top language for data science and machine learning\n",
    "- Analyzing data\n",
    "- Web applications\n",
    "- Automated testing\n",
    "- Devops and server configuration\n",
    "- APIs\n",
    "- Education\n",
    "\n",
    "Python is not used where speed is of the essence -- writing operating systems. Also, it's very weak in mobile applications now.\n",
    "\n",
    "Python is also an *open-source* language, which means that is not owned by any corporation. It's owned by a non-profit (the Python Software Foundation) which ensures that the development is all done by the community."
   ]
  },
  {
   "cell_type": "markdown",
   "metadata": {},
   "source": [
    "# Jupyter and coding\n",
    "\n",
    "If you're going to write Python code, you can (and this is the norm) create a text file with a `.py` suffix containing Python code, and then run it. However, this means installing Python and an editor (two typical ones are VSCode and PyCharm), and then executing from inside of there.\n",
    "\n",
    "The O'Reilly site has some videos I made telling you how to install Python and get VSCode working.\n",
    "\n",
    "However, I like to use Jupyter, which gives the illusion of running Python in your browser. The code is really running on a server somewhere (in this case, on my computer), but shows its results in the browser.\n",
    "\n",
    "*WARNING*: Don't use JupyterLite for this class! That is a version of Jupyter that runs 100% in the browser, no server needed. The problem is that one thing works differently -- getting input from the user. \n",
    "\n",
    "If you don't want to install Jupyter or use a Python editor, you can use Google Colab, which is a bit old, clunky, and slow -- but it more than does the job you need."
   ]
  },
  {
   "cell_type": "code",
   "execution_count": null,
   "metadata": {},
   "outputs": [],
   "source": []
  },
  {
   "cell_type": "code",
   "execution_count": null,
   "metadata": {},
   "outputs": [],
   "source": []
  },
  {
   "cell_type": "markdown",
   "metadata": {},
   "source": [
    "# Five-minute intro to Jupyter\n",
    "\n",
    "When I type into Jupyter, I'm typing into a \"cell.\" Each notebook contains a number of cells.\n",
    "\n",
    "But actually, when I type, I might be in one of two different *modes*:\n",
    "\n",
    "- Edit mode: Typing goes into the cell. You can enter edit mode by clicking inside of the cell or pressing `ENTER`. Right now, I'm in edit mode.\n",
    "- Command mode: Typing tells Jupyter what you want to do, giving it commands. You can enter command mode by clicking to the left of the cell or pressing `ESC`.\n",
    "\n",
    "When you are done in a cell, you can finalize/execute it by pressing `SHIFT`+`ENTER`.\n",
    "\n",
    "### Commands you can use in command mode\n",
    "\n",
    "- `c` -- copies the current cell\n",
    "- `x` -- cuts the current cell\n",
    "- `v` -- pastes the most recently cut/copied cell\n",
    "- `a` -- create a new cell *ABOVE* the current one\n",
    "- `b` -- create a new cell *BELOW* the current one\n",
    "- `m` -- tell the cell to be in Markdown (documentation) mode\n",
    "- `y` -- tell the cell to be in Python (coding) mode\n",
    "\n",
    "In Markdown (documentation) mode, you can use backticks (``) to indicate that something should be monospaced in computer font."
   ]
  },
  {
   "cell_type": "code",
   "execution_count": 1,
   "metadata": {},
   "outputs": [
    {
     "name": "stdout",
     "output_type": "stream",
     "text": [
      "Hello, world!\n"
     ]
    }
   ],
   "source": [
    "# Let's write some Python code!\n",
    "# This cell is in Python mode\n",
    "# These lines starting with # are all comments; Python ignores them completely! They are for our use\n",
    "\n",
    "# print is a function -- it's a verb in Python\n",
    "# we execute it by using () after the name\n",
    "# we can put text inside of the (), and that will then be printed\n",
    "# You can use either '' or \"\" around text -- they are seen as precisely the same thing in Python\n",
    "\n",
    "# finally, notice that at the end of the line, we don't need ; or any other thing -- Python knows that the end of a line\n",
    "# is the end of our command\n",
    "\n",
    "print('Hello, world!')"
   ]
  },
  {
   "cell_type": "code",
   "execution_count": 2,
   "metadata": {},
   "outputs": [
    {
     "name": "stdout",
     "output_type": "stream",
     "text": [
      "10\n"
     ]
    }
   ],
   "source": [
    "# we can use numbers, too!\n",
    "\n",
    "print(10)"
   ]
  },
  {
   "cell_type": "code",
   "execution_count": 4,
   "metadata": {},
   "outputs": [
    {
     "name": "stdout",
     "output_type": "stream",
     "text": [
      "12\n"
     ]
    }
   ],
   "source": [
    "# I can even put in an expression, such as adding two numbers together\n",
    "\n",
    "print(5 + 7)      # first, Python calculates 5+7, and hands 12 to print as its \"argument,\" or value we give it to display"
   ]
  },
  {
   "cell_type": "code",
   "execution_count": 6,
   "metadata": {},
   "outputs": [
    {
     "name": "stdout",
     "output_type": "stream",
     "text": [
      "Hello, world!\n"
     ]
    }
   ],
   "source": [
    "# I can use + to add numbers\n",
    "# I can also use + to add text strings together\n",
    "\n",
    "print('Hello, ' + 'world' + '!')   # notice the space that I put after the ,  "
   ]
  },
  {
   "cell_type": "code",
   "execution_count": 7,
   "metadata": {},
   "outputs": [
    {
     "name": "stdout",
     "output_type": "stream",
     "text": [
      "Hello,world!\n"
     ]
    }
   ],
   "source": [
    "print('Hello,' + 'world' + '!')   "
   ]
  },
  {
   "cell_type": "markdown",
   "metadata": {},
   "source": [
    "Computers do what you tell them to do, not what you want them to do!"
   ]
  },
  {
   "cell_type": "markdown",
   "metadata": {},
   "source": [
    "# Assignment and variables\n",
    "\n",
    "Clearly, I don't want to have to write each value, every time I want to use it. I would like to store a value somewhere with a good name, and then retrieve it.\n",
    "\n",
    "We can store any value we want in a *variable*, which is a name that refers to a value.\n",
    "\n",
    "We do this with the *assignment operator*, which is `=`.\n",
    "\n",
    "**THIS IS NOT THE SAME AS `=` IN MATHEMATICS!**\n",
    "\n",
    "When we use `=`, we are telling Python:\n",
    "\n",
    "- Get the value from the right side\n",
    "- Assign it to the variable on the left side"
   ]
  },
  {
   "cell_type": "code",
   "execution_count": 8,
   "metadata": {},
   "outputs": [],
   "source": [
    "x = 10     # from this point on, the variable x refers to the value 10, and we can use it instead of 10"
   ]
  },
  {
   "cell_type": "code",
   "execution_count": 9,
   "metadata": {},
   "outputs": [
    {
     "name": "stdout",
     "output_type": "stream",
     "text": [
      "15\n"
     ]
    }
   ],
   "source": [
    "print(x + 5)   "
   ]
  },
  {
   "cell_type": "markdown",
   "metadata": {},
   "source": [
    "A few things to notice about variables:\n",
    "\n",
    "1. We don't need to declare them in advance. In fact, Python doesn't provide us with a way to do that! The first time you assign to a variable, it is created. There is no way to say that a variable only contains numbers, text, or anything else.\n",
    "2. Variable names can contain nearly any combination of letters, digits, and `_`:\n",
    "    - Capital and lowercase letters are totally different\n",
    "    - We normally only use lowercase letters\n",
    "    - You cannot start a variable name with a digit\n",
    "    - Don't start or end a variable name with `_`, unless you really know what you're doing\n",
    "    - Variable names are for *YOU*, not for Python. Use names that make sense!"
   ]
  },
  {
   "cell_type": "code",
   "execution_count": 10,
   "metadata": {},
   "outputs": [
    {
     "name": "stdout",
     "output_type": "stream",
     "text": [
      "30\n"
     ]
    }
   ],
   "source": [
    "x = 10\n",
    "y = 20\n",
    "\n",
    "print(x + y)"
   ]
  },
  {
   "cell_type": "code",
   "execution_count": 11,
   "metadata": {},
   "outputs": [
    {
     "name": "stdout",
     "output_type": "stream",
     "text": [
      "Hello, Reuven\n"
     ]
    }
   ],
   "source": [
    "name = 'Reuven'\n",
    "\n",
    "print('Hello, ' + name)"
   ]
  },
  {
   "cell_type": "code",
   "execution_count": 12,
   "metadata": {},
   "outputs": [
    {
     "ename": "TypeError",
     "evalue": "unsupported operand type(s) for +: 'int' and 'str'",
     "output_type": "error",
     "traceback": [
      "\u001b[0;31m---------------------------------------------------------------------------\u001b[0m",
      "\u001b[0;31mTypeError\u001b[0m                                 Traceback (most recent call last)",
      "Cell \u001b[0;32mIn[12], line 6\u001b[0m\n\u001b[1;32m      3\u001b[0m x \u001b[38;5;241m=\u001b[39m \u001b[38;5;241m10\u001b[39m\n\u001b[1;32m      4\u001b[0m y \u001b[38;5;241m=\u001b[39m \u001b[38;5;124m'\u001b[39m\u001b[38;5;124m20\u001b[39m\u001b[38;5;124m'\u001b[39m    \u001b[38;5;66;03m# notice! This is not a number! This is text that happens to contain digits!\u001b[39;00m\n\u001b[0;32m----> 6\u001b[0m \u001b[38;5;28mprint\u001b[39m(\u001b[43mx\u001b[49m\u001b[43m \u001b[49m\u001b[38;5;241;43m+\u001b[39;49m\u001b[43m \u001b[49m\u001b[43my\u001b[49m)  \u001b[38;5;66;03m# what will Python do here?  Will it give me 1020 (treating them both as text) or 30 (treating them both as integers)?\u001b[39;00m\n",
      "\u001b[0;31mTypeError\u001b[0m: unsupported operand type(s) for +: 'int' and 'str'"
     ]
    }
   ],
   "source": [
    "# here is where things get weird/hard\n",
    "\n",
    "x = 10\n",
    "y = '20'    # notice! This is not a number! This is text that happens to contain digits!\n",
    "\n",
    "print(x + y)  # what will Python do here?  Will it give me 1020 (treating them both as text) or 30 (treating them both as integers)?"
   ]
  },
  {
   "cell_type": "markdown",
   "metadata": {},
   "source": [
    "# Special Jupyter feature\n",
    "\n",
    "Normally, Python will only display what you give it in `print`. If you didn't `print`, you won't see anything.\n",
    "\n",
    "BUT if you're in Jupyter, and if the final line of your cell is an *expression* that gives us a value back, then it will displayed."
   ]
  },
  {
   "cell_type": "code",
   "execution_count": 13,
   "metadata": {},
   "outputs": [
    {
     "data": {
      "text/plain": [
       "60"
      ]
     },
     "execution_count": 13,
     "metadata": {},
     "output_type": "execute_result"
    }
   ],
   "source": [
    "# these are three expressions\n",
    "\n",
    "10 + 10\n",
    "20 + 20 \n",
    "30 + 30"
   ]
  },
  {
   "cell_type": "code",
   "execution_count": 14,
   "metadata": {},
   "outputs": [
    {
     "data": {
      "text/plain": [
       "10"
      ]
     },
     "execution_count": 14,
     "metadata": {},
     "output_type": "execute_result"
    }
   ],
   "source": [
    "# now we can just see the value of a variable by typing its name\n",
    "\n",
    "x"
   ]
  },
  {
   "cell_type": "code",
   "execution_count": 15,
   "metadata": {},
   "outputs": [
    {
     "data": {
      "text/plain": [
       "'20'"
      ]
     },
     "execution_count": 15,
     "metadata": {},
     "output_type": "execute_result"
    }
   ],
   "source": [
    "y"
   ]
  },
  {
   "cell_type": "markdown",
   "metadata": {},
   "source": [
    "# Exercise: Simple printing\n",
    "\n",
    "1. Assign two numbers to the variables `x` and `y`. Assign their sum to a third variable, `z`. Print the value of `z`.\n",
    "2. Assign your name to the variable `name`. Print a nice greeting to yourself.\n",
    "\n",
    "I'll activate the \"pulse check\" feature:\n",
    "\n",
    "- If you finish, click on the thumbs up\n",
    "- If you are stuck or doesn't work, click on the thumbs down **AND** send me your code in the Q&A"
   ]
  },
  {
   "cell_type": "code",
   "execution_count": 19,
   "metadata": {},
   "outputs": [
    {
     "name": "stdout",
     "output_type": "stream",
     "text": [
      "50\n"
     ]
    }
   ],
   "source": [
    "# 1. Assign two numbers to the variables `x` and `y`. Assign their sum to a third variable, `z`. Print the value of `z`.\n",
    "\n",
    "x = 12\n",
    "y = 38\n",
    "\n",
    "z = x + y\n",
    "\n",
    "print(z)"
   ]
  },
  {
   "cell_type": "code",
   "execution_count": 20,
   "metadata": {},
   "outputs": [
    {
     "name": "stdout",
     "output_type": "stream",
     "text": [
      "Hello, Reuven.\n"
     ]
    }
   ],
   "source": [
    "# 2. Assign your name to the variable `name`. Print a nice greeting to yourself.\n",
    "\n",
    "name = 'Reuven'     # string on the right, and variable on the left\n",
    "\n",
    "print('Hello, ' + name + '.')"
   ]
  },
  {
   "cell_type": "code",
   "execution_count": 21,
   "metadata": {},
   "outputs": [
    {
     "ename": "NameError",
     "evalue": "name 'Reuven' is not defined",
     "output_type": "error",
     "traceback": [
      "\u001b[0;31m---------------------------------------------------------------------------\u001b[0m",
      "\u001b[0;31mNameError\u001b[0m                                 Traceback (most recent call last)",
      "Cell \u001b[0;32mIn[21], line 3\u001b[0m\n\u001b[1;32m      1\u001b[0m \u001b[38;5;66;03m# I got this sort of thing in the Q&A\u001b[39;00m\n\u001b[0;32m----> 3\u001b[0m name \u001b[38;5;241m=\u001b[39m \u001b[43mReuven\u001b[49m   \u001b[38;5;66;03m# notice, no quotes!\u001b[39;00m\n\u001b[1;32m      5\u001b[0m \u001b[38;5;28mprint\u001b[39m(\u001b[38;5;124m'\u001b[39m\u001b[38;5;124mHello, \u001b[39m\u001b[38;5;124m'\u001b[39m \u001b[38;5;241m+\u001b[39m name \u001b[38;5;241m+\u001b[39m \u001b[38;5;124m'\u001b[39m\u001b[38;5;124m.\u001b[39m\u001b[38;5;124m'\u001b[39m)\n",
      "\u001b[0;31mNameError\u001b[0m: name 'Reuven' is not defined"
     ]
    }
   ],
   "source": [
    "# I got this sort of thing in the Q&A\n",
    "\n",
    "name = Reuven   # notice, no quotes -- here, Python thinks that Reuven is a variable, and it should assign that value to name!\n",
    "\n",
    "print('Hello, ' + name + '.')"
   ]
  },
  {
   "cell_type": "markdown",
   "metadata": {},
   "source": [
    "# Variables vs. text strings\n",
    "\n",
    "- If you have a name with quotes (either `''` or `\"\"`) around it, that is taken as as literal text string, and Python will treat it as a text value.\n",
    "- If you have a name without quotes, that is considered a variable, and Python will look for that name and retrieve its value. If the name wasn't defined, then you'll get an error."
   ]
  },
  {
   "cell_type": "code",
   "execution_count": 22,
   "metadata": {},
   "outputs": [
    {
     "name": "stdout",
     "output_type": "stream",
     "text": [
      "25\n"
     ]
    }
   ],
   "source": [
    "# MK\n",
    "\n",
    "#Exercice 1 :\n",
    "x = 5\n",
    "y = 20\n",
    "z = x + y\n",
    "print(z)"
   ]
  },
  {
   "cell_type": "code",
   "execution_count": 24,
   "metadata": {},
   "outputs": [
    {
     "name": "stdout",
     "output_type": "stream",
     "text": [
      "Welcome Mebrouk to the best course in the wolrd\n"
     ]
    }
   ],
   "source": [
    "#Greeting my self\n",
    "\n",
    "name = \"Mebrouk\"\n",
    "print(\"Welcome \" + name + \" to the best course in the wolrd\")"
   ]
  },
  {
   "cell_type": "markdown",
   "metadata": {},
   "source": [
    "# Next up\n",
    "\n",
    "1. Getting input from the user with `input`\n",
    "2. Printing f-strings\n",
    "3. Comparisons with `==`\n",
    "4. Making decisions with `if`"
   ]
  },
  {
   "cell_type": "markdown",
   "metadata": {},
   "source": [
    "If we have to hard-code all of our values in a program, our program is going to be very boring.\n",
    "\n",
    "We really want to get inputs from the user (and from other sources, such as the network and from files).\n",
    "\n",
    "We can use the function `input` to get input from the user:\n",
    "\n",
    "- We invoke `input` with `()`\n",
    "- Inside of the `()`, we put a text string -- the question/prompt/text that we want to show the user, to ask for input\n",
    "- Whatever the user types is then returned by `input`\n",
    "- Typically/traditionally, `input` is always on the right side of assignment\n",
    "- In other words, whatever the user typed get assigned to a variable, and it contains a text value."
   ]
  },
  {
   "cell_type": "code",
   "execution_count": 28,
   "metadata": {},
   "outputs": [
    {
     "name": "stdin",
     "output_type": "stream",
     "text": [
      "Enter your name:  12345\n"
     ]
    },
    {
     "name": "stdout",
     "output_type": "stream",
     "text": [
      "Hello, 12345. Have a nice day!\n"
     ]
    }
   ],
   "source": [
    "# when I run this code, input will halt the program, and wait for me (or the user) to type something\n",
    "# after that happens, the variable \"name\" will contain a text string, whatever the user typed\n",
    "# I can use that text string in whatever I want.\n",
    "\n",
    "name = input('Enter your name: ')\n",
    "print('Hello, ' + name + '. Have a nice day!')"
   ]
  },
  {
   "cell_type": "code",
   "execution_count": 29,
   "metadata": {},
   "outputs": [
    {
     "name": "stdin",
     "output_type": "stream",
     "text": [
      "Enter your favorite number:  15\n"
     ]
    }
   ],
   "source": [
    "x = input('Enter your favorite number: ')"
   ]
  },
  {
   "cell_type": "code",
   "execution_count": 30,
   "metadata": {},
   "outputs": [
    {
     "ename": "TypeError",
     "evalue": "can only concatenate str (not \"int\") to str",
     "output_type": "error",
     "traceback": [
      "\u001b[0;31m---------------------------------------------------------------------------\u001b[0m",
      "\u001b[0;31mTypeError\u001b[0m                                 Traceback (most recent call last)",
      "Cell \u001b[0;32mIn[30], line 1\u001b[0m\n\u001b[0;32m----> 1\u001b[0m \u001b[38;5;28mprint\u001b[39m(\u001b[43mx\u001b[49m\u001b[43m \u001b[49m\u001b[38;5;241;43m+\u001b[39;49m\u001b[43m \u001b[49m\u001b[38;5;241;43m10\u001b[39;49m)  \u001b[38;5;66;03m# what is the user's favorite number + 10?\u001b[39;00m\n",
      "\u001b[0;31mTypeError\u001b[0m: can only concatenate str (not \"int\") to str"
     ]
    }
   ],
   "source": [
    "print(x + 10)  # what is the user's favorite number + 10?"
   ]
  },
  {
   "cell_type": "code",
   "execution_count": 31,
   "metadata": {},
   "outputs": [
    {
     "data": {
      "text/plain": [
       "'1515'"
      ]
     },
     "execution_count": 31,
     "metadata": {},
     "output_type": "execute_result"
    }
   ],
   "source": [
    "x + x   # what happens if I do this?"
   ]
  },
  {
   "cell_type": "markdown",
   "metadata": {},
   "source": [
    "# f-strings \n",
    "\n",
    "We'll talk more later about text strings and how to create/use them. *BUT* we already can benefit from f-strings.\n",
    "\n",
    "- We create a regular string\n",
    "- Before the opening quote, put the letter `f`\n",
    "- Inside of the string, if we have `{}`, they can contain *any* Python value, variable, or expression\n",
    "- If needed, that value will be turned into a text string\n",
    "- This allows us to put variables inside of a text string without using `+` (which is annoying and ugly)"
   ]
  },
  {
   "cell_type": "code",
   "execution_count": 32,
   "metadata": {},
   "outputs": [
    {
     "name": "stdout",
     "output_type": "stream",
     "text": [
      "Hello, Reuven. Did you know that x = 10 and y = 20?\n"
     ]
    }
   ],
   "source": [
    "x = 10\n",
    "y = 20\n",
    "name = 'Reuven'\n",
    "\n",
    "print(f'Hello, {name}. Did you know that x = {x} and y = {y}?')"
   ]
  },
  {
   "cell_type": "markdown",
   "metadata": {},
   "source": [
    "# Exercise: Greet yourself\n",
    "\n",
    "1. Ask the user to enter their name, and assign to the variable `name`.\n",
    "2. Ask the user to enter their city, and assign to the variable `city`.\n",
    "3. Print a nice greeting to the user, including both of these things."
   ]
  },
  {
   "cell_type": "code",
   "execution_count": 34,
   "metadata": {},
   "outputs": [
    {
     "name": "stdin",
     "output_type": "stream",
     "text": [
      "Enter your name:  asdfasfadfasfdasdfdasfasfas\n",
      "Enter your city:  ljl;aksdjfakljdfaskl;djf;askfjaslfjk;a\n"
     ]
    },
    {
     "name": "stdout",
     "output_type": "stream",
     "text": [
      "Hello, asdfasfadfasfdasdfdasfasfas from ljl;aksdjfakljdfaskl;djf;askfjaslfjk;a!\n"
     ]
    }
   ],
   "source": [
    "name = input('Enter your name: ')\n",
    "city = input('Enter your city: ')\n",
    "\n",
    "print(f'Hello, {name} from {city}!')"
   ]
  },
  {
   "cell_type": "markdown",
   "metadata": {},
   "source": [
    "# Quotation marks and strings\n",
    "\n",
    "- If our text string contains a single quote (`'`), then we can/should use double quotes (`\"\"`) around the string.\n",
    "- If our text string contains a double quote (`\"`), then we can/should use single quotes (`''`) around the string.\n",
    "\n",
    "This is because Python needs to know whether the quote is ending the string or is a character in the string.\n",
    "\n",
    "Another way to do this is to put a `\\` before the quote. That's known as \"escaping,\" and means: Don't treat this quote character as the end of the string. Treat it as a character in the string."
   ]
  },
  {
   "cell_type": "code",
   "execution_count": 35,
   "metadata": {},
   "outputs": [
    {
     "data": {
      "text/plain": [
       "\"Modi'in\""
      ]
     },
     "execution_count": 35,
     "metadata": {},
     "output_type": "execute_result"
    }
   ],
   "source": [
    "city = \"Modi'in\"    # use double quotes\n",
    "city"
   ]
  },
  {
   "cell_type": "code",
   "execution_count": 36,
   "metadata": {
    "scrolled": true
   },
   "outputs": [
    {
     "ename": "SyntaxError",
     "evalue": "unterminated string literal (detected at line 1) (2596757061.py, line 1)",
     "output_type": "error",
     "traceback": [
      "\u001b[0;36m  Cell \u001b[0;32mIn[36], line 1\u001b[0;36m\u001b[0m\n\u001b[0;31m    city = 'Modi'in'   # what if I have the quote in the middle?\u001b[0m\n\u001b[0m                   ^\u001b[0m\n\u001b[0;31mSyntaxError\u001b[0m\u001b[0;31m:\u001b[0m unterminated string literal (detected at line 1)\n"
     ]
    }
   ],
   "source": [
    "city = 'Modi'in'   # what if I have the quote in the middle? \n",
    "city"
   ]
  },
  {
   "cell_type": "code",
   "execution_count": 42,
   "metadata": {},
   "outputs": [
    {
     "data": {
      "text/plain": [
       "\"Modi'in\""
      ]
     },
     "execution_count": 42,
     "metadata": {},
     "output_type": "execute_result"
    }
   ],
   "source": [
    "city = 'Modi\\'in'   # escape the ' in the middle of the city name\n",
    "city   # here, Jupyter is doing us a favor and showing us the value with any quotes/internals -- this is for programmers!"
   ]
  },
  {
   "cell_type": "code",
   "execution_count": 41,
   "metadata": {},
   "outputs": [
    {
     "name": "stdout",
     "output_type": "stream",
     "text": [
      "Modi'in\n"
     ]
    }
   ],
   "source": [
    "print(city)   # here, we see it for users -- without quotes"
   ]
  },
  {
   "cell_type": "markdown",
   "metadata": {},
   "source": [
    "# Comparison operators\n",
    "\n",
    "So far, we've seen one operator, `+`. There are plenty of other operators in Python. For example, the `==` operator tells us whether two values are the same.\n",
    "\n",
    "# NOTE the difference between `=` and `==`\n",
    "\n",
    "- `=` is the assignment operator. It assigns the value on the right to the variable on the left.\n",
    "- `==` is the equality operator. It checks if the values on the left and right are the same. It returns `True` if so, and `False` if not.\n",
    "\n",
    "I can compare any two values in Python that I want with `==`.\n",
    "\n",
    "In fact, there are a bunch of comparison operators that I can use:\n",
    "\n",
    "- `==` -- are they equal?\n",
    "- `!=` -- are they unequal? This is the same as the mathematical ≠ sign\n",
    "- `<` -- less than\n",
    "- `<=` -- less than or equal\n",
    "- `>` -- greater than\n",
    "- `>=` -- greater than or equal\n",
    "\n",
    "All of these return either `True` or `False`, depending on the values"
   ]
  },
  {
   "cell_type": "code",
   "execution_count": 38,
   "metadata": {},
   "outputs": [
    {
     "data": {
      "text/plain": [
       "True"
      ]
     },
     "execution_count": 38,
     "metadata": {},
     "output_type": "execute_result"
    }
   ],
   "source": [
    "x = 10\n",
    "y = 10\n",
    "\n",
    "x == y"
   ]
  },
  {
   "cell_type": "code",
   "execution_count": 39,
   "metadata": {},
   "outputs": [
    {
     "data": {
      "text/plain": [
       "False"
      ]
     },
     "execution_count": 39,
     "metadata": {},
     "output_type": "execute_result"
    }
   ],
   "source": [
    "x = 10\n",
    "y = 20\n",
    "\n",
    "x == y"
   ]
  },
  {
   "cell_type": "code",
   "execution_count": 40,
   "metadata": {},
   "outputs": [
    {
     "data": {
      "text/plain": [
       "True"
      ]
     },
     "execution_count": 40,
     "metadata": {},
     "output_type": "execute_result"
    }
   ],
   "source": [
    "x < y"
   ]
  },
  {
   "cell_type": "code",
   "execution_count": 43,
   "metadata": {},
   "outputs": [
    {
     "data": {
      "text/plain": [
       "False"
      ]
     },
     "execution_count": 43,
     "metadata": {},
     "output_type": "execute_result"
    }
   ],
   "source": [
    "x = 'abc'\n",
    "y = 'abc '   # note the space\n",
    "\n",
    "x == y"
   ]
  },
  {
   "cell_type": "code",
   "execution_count": 44,
   "metadata": {},
   "outputs": [
    {
     "data": {
      "text/plain": [
       "False"
      ]
     },
     "execution_count": 44,
     "metadata": {},
     "output_type": "execute_result"
    }
   ],
   "source": [
    "x = 'abc'\n",
    "y = 'Abc'\n",
    "\n",
    "x == y  # are these the same?"
   ]
  },
  {
   "cell_type": "code",
   "execution_count": 45,
   "metadata": {},
   "outputs": [
    {
     "data": {
      "text/plain": [
       "False"
      ]
     },
     "execution_count": 45,
     "metadata": {},
     "output_type": "execute_result"
    }
   ],
   "source": [
    "x = 10    # integer\n",
    "y = '10'  # text string\n",
    "\n",
    "x == y"
   ]
  },
  {
   "cell_type": "code",
   "execution_count": 46,
   "metadata": {},
   "outputs": [
    {
     "data": {
      "text/plain": [
       "True"
      ]
     },
     "execution_count": 46,
     "metadata": {},
     "output_type": "execute_result"
    }
   ],
   "source": [
    "x = 10\n",
    "y = 20\n",
    "\n",
    "x < y"
   ]
  },
  {
   "cell_type": "code",
   "execution_count": 48,
   "metadata": {},
   "outputs": [
    {
     "data": {
      "text/plain": [
       "True"
      ]
     },
     "execution_count": 48,
     "metadata": {},
     "output_type": "execute_result"
    }
   ],
   "source": [
    "x = 'abcd'\n",
    "y = 'xyz'\n",
    "\n",
    "x < y   # does this even make sense? -- this tells us that x comes before y alphabetically!"
   ]
  },
  {
   "cell_type": "code",
   "execution_count": 49,
   "metadata": {},
   "outputs": [
    {
     "data": {
      "text/plain": [
       "True"
      ]
     },
     "execution_count": 49,
     "metadata": {},
     "output_type": "execute_result"
    }
   ],
   "source": [
    "x = 'abcd'\n",
    "y = 'dcba'\n",
    "\n",
    "x < y"
   ]
  },
  {
   "cell_type": "code",
   "execution_count": 50,
   "metadata": {},
   "outputs": [
    {
     "data": {
      "text/plain": [
       "False"
      ]
     },
     "execution_count": 50,
     "metadata": {},
     "output_type": "execute_result"
    }
   ],
   "source": [
    "x = 'abcd'\n",
    "y = 'abca'\n",
    "\n",
    "x < y"
   ]
  },
  {
   "cell_type": "markdown",
   "metadata": {},
   "source": [
    "# Making decisions\n",
    "\n",
    "A program is very boring if it always does the same thing. That's why nearly every program uses the `if` statement.\n",
    "\n",
    "`if` looks to its right, and asks: Is this a `True` value? \n",
    "\n",
    "- If so, then it executes the block immediately following\n",
    "- If not, then it executes the block for the `else`"
   ]
  },
  {
   "cell_type": "code",
   "execution_count": 54,
   "metadata": {},
   "outputs": [
    {
     "ename": "IndentationError",
     "evalue": "expected an indented block after 'if' statement on line 5 (1999547917.py, line 6)",
     "output_type": "error",
     "traceback": [
      "\u001b[0;36m  Cell \u001b[0;32mIn[54], line 6\u001b[0;36m\u001b[0m\n\u001b[0;31m    print('Hello, boss!')\u001b[0m\n\u001b[0m    ^\u001b[0m\n\u001b[0;31mIndentationError\u001b[0m\u001b[0;31m:\u001b[0m expected an indented block after 'if' statement on line 5\n"
     ]
    }
   ],
   "source": [
    "# example\n",
    "\n",
    "name = input('Enter your name: ')\n",
    "\n",
    "if name == 'Reuven':\n",
    "    print('Hello, boss!')\n",
    "    print('Welcome back; it is nice to see you again!')\n",
    "else:\n",
    "    print(f'Hello, {name}. Who are you?')"
   ]
  },
  {
   "cell_type": "markdown",
   "metadata": {},
   "source": [
    "# What's happening here?\n",
    "\n",
    "- `if` looks to its right, and sees a comparison. If the comparison returns `True`, then it'll run the block following\n",
    "- Notice that we don't need `()` around our condition.\n",
    "- Notice that at the end of the line, we have a `:`. This is mandatory!\n",
    "- After a `:` at the end of a line, we start a *block*\n",
    "    - Blocks are indented. This is mandatory, also!\n",
    "    - How much you indent is theoretically up to you... but you should use 4 spaces, like everyone else\n",
    "    - If you use a Python-aware tool like Jupyter or PyCharm or VSCode, then it'll indent automatically for you\n",
    "    - Python doesn't use `{}` to mark blocks. It uses indentation!\n",
    "    - When you're done with a block, just use \"backspace\" to delete the indentation, and keep typing\n",
    "    - A block can be as long or short as you want -- at least one line, and no maximum\n",
    "- If the `if` condition is `False`, then you can have an `else` clause\n",
    "    - No condition on `else`; it's just `else:` and a block\n",
    "    - The `else` clause is optional -- if you don't have it, and the `if` condition was `False`, then nothing happens\n",
    "    - The `else` block must also be indented.\n",
    "- If you have both `if` and `else`, then exactly one block will run -- not fewer, and not more.\n",
    "- A block can contain ANY PYTHON CODE -- `if`, `print`, `input`, assignment, loops, definitions..."
   ]
  },
  {
   "cell_type": "markdown",
   "metadata": {},
   "source": [
    "# Exercise: Which word comes first?\n",
    "\n",
    "1. Ask the user to enter two words, and assign each to a different variable (`first` and `second`).\n",
    "    - The words must be all lowercase\n",
    "    - The words must be different\n",
    "2. Tell the user which word comes first alphabetically.\n",
    "\n",
    "Example:\n",
    "\n",
    "    Enter first: chicken\n",
    "    Enter second: egg\n",
    "    chicken comes before egg\n",
    "\n",
    "    Enter first: horse\n",
    "    Enter second: cart\n",
    "    cart comes before horse\n",
    "\n"
   ]
  },
  {
   "cell_type": "code",
   "execution_count": 57,
   "metadata": {},
   "outputs": [
    {
     "name": "stdin",
     "output_type": "stream",
     "text": [
      "Enter first:  chicken\n",
      "Enter second:  egg\n"
     ]
    },
    {
     "name": "stdout",
     "output_type": "stream",
     "text": [
      "chicken comes before egg.\n"
     ]
    }
   ],
   "source": [
    "first = input('Enter first: ')\n",
    "second = input('Enter second: ')\n",
    "\n",
    "if first < second:\n",
    "    print(f'{first} comes before {second}.')\n",
    "else:\n",
    "    print(f'{second} comes before {first}.')"
   ]
  },
  {
   "cell_type": "markdown",
   "metadata": {},
   "source": [
    "# A few things to notice\n",
    "\n",
    "1. After the word `else`, just put `:` and then press `ENTER` to go to a new line\n",
    "    - `else` doesn't take a condition; it's just the opposite of whatever the `if` condition is\n",
    "    - You can, in theory, have something after the `:` if it's just one line long, but you really should use a new line, even if it's just a one-line block\n",
    "2. Make sure that you indent on the new line after the `:`\n",
    "3. If `first < second`, that means that `first` comes *earlier* in the dictionary than `second`."
   ]
  },
  {
   "cell_type": "code",
   "execution_count": null,
   "metadata": {},
   "outputs": [],
   "source": [
    "# MK\n",
    "\n",
    "first = input(\"Please enter the first word \")\n",
    "second = input(\"Please enter the second word \")\n",
    "\n",
    "\n",
    "if first > second:\n",
    "    print(f'{first} comes first')\n",
    "else:\n",
    "    print(f'{second} comes first')"
   ]
  },
  {
   "cell_type": "code",
   "execution_count": 59,
   "metadata": {},
   "outputs": [
    {
     "name": "stdout",
     "output_type": "stream",
     "text": [
      "Hello\n"
     ]
    },
    {
     "name": "stdin",
     "output_type": "stream",
     "text": [
      "Enter your name:  \n"
     ]
    },
    {
     "name": "stdout",
     "output_type": "stream",
     "text": [
      "Hello again, now that I know you are called .\n"
     ]
    }
   ],
   "source": [
    "print('Hello')\n",
    "\n",
    "name = input('Enter your name: ')\n",
    "\n",
    "print(f'Hello again, now that I know you are called {name}.')"
   ]
  },
  {
   "cell_type": "markdown",
   "metadata": {},
   "source": [
    "# Next up\n",
    "\n",
    "1. `elif`, `and`, `or`, and `not` for more sophisticated conditions\n",
    "2. Numbers -- `int` and `float`\n",
    "3. Text strings"
   ]
  },
  {
   "cell_type": "markdown",
   "metadata": {},
   "source": [
    "# `elif`\n",
    "\n",
    "If our condition has only two possibilities, then `if` and `else` are enough.\n",
    "\n",
    "But many times, we need to consider more possibilities than that. For that, we have `elif`.\n",
    "\n",
    "- `elif` comes after `if` and before `else`\n",
    "- Like `if`, it needs a condition\n",
    "- You can have as many `elif` clauses (and conditions) as you want\n",
    "- Each has its own, separate indented block\n",
    "- The first to have `True` for its condition fires; the rest do not\n",
    "- Once again, one and only one of the blocks will fire\n",
    "- You don't need to have an `else` after `if` and `elif`, but it's unusual not to"
   ]
  },
  {
   "cell_type": "code",
   "execution_count": 62,
   "metadata": {},
   "outputs": [
    {
     "name": "stdin",
     "output_type": "stream",
     "text": [
      "Enter your name:  whatever\n"
     ]
    },
    {
     "name": "stdout",
     "output_type": "stream",
     "text": [
      "Hello, whatever. Who are you?\n"
     ]
    }
   ],
   "source": [
    "name = input('Enter your name: ')\n",
    "\n",
    "if name == 'Reuven':\n",
    "    print('Hello, boss!')\n",
    "    print('Welcome back; it is nice to see you again!')\n",
    "elif name == 'someone else':\n",
    "    print(f'That is a very unusual name, {name}!')\n",
    "else:\n",
    "    print(f'Hello, {name}. Who are you?')"
   ]
  },
  {
   "cell_type": "code",
   "execution_count": 63,
   "metadata": {},
   "outputs": [
    {
     "name": "stdout",
     "output_type": "stream",
     "text": [
      "Greater than 40\n"
     ]
    }
   ],
   "source": [
    "x = 45\n",
    "\n",
    "if x > 60:\n",
    "    print('Greater than 60')\n",
    "elif x > 50:\n",
    "    print('Greater than 50')\n",
    "elif x > 40:\n",
    "    print('Greater than 40')\n",
    "elif x > 30:\n",
    "    print('Greater than 30')\n",
    "elif x > 20:\n",
    "    print('Greater than 20')\n",
    "else:\n",
    "    print('I have no idea')   "
   ]
  },
  {
   "cell_type": "code",
   "execution_count": 64,
   "metadata": {},
   "outputs": [
    {
     "name": "stdout",
     "output_type": "stream",
     "text": [
      "Greater than 20\n"
     ]
    }
   ],
   "source": [
    "# if we turn the conditions around, we will get a different answer\n",
    "\n",
    "x = 45\n",
    "\n",
    "if x > 20:\n",
    "    print('Greater than 20')\n",
    "elif x > 30:\n",
    "    print('Greater than 30')\n",
    "elif x > 40:\n",
    "    print('Greater than 40')\n",
    "elif x > 50:\n",
    "    print('Greater than 50')\n",
    "elif x > 60:\n",
    "    print('Greater than 60')\n",
    "else:\n",
    "    print('I have no idea')   "
   ]
  },
  {
   "cell_type": "markdown",
   "metadata": {},
   "source": [
    "# Exercise: Which word comes first?\n",
    "\n",
    "Redo the previous exercise, except that now we can handle both `first` and `second` containing the same word.\n",
    "\n",
    "Tell the user either which word comes first *or* that they are the same."
   ]
  },
  {
   "cell_type": "code",
   "execution_count": 68,
   "metadata": {},
   "outputs": [
    {
     "name": "stdin",
     "output_type": "stream",
     "text": [
      "Enter first:  persimmon\n",
      "Enter second:  banana\n"
     ]
    },
    {
     "name": "stdout",
     "output_type": "stream",
     "text": [
      "banana comes before persimmon.\n"
     ]
    }
   ],
   "source": [
    "first = input('Enter first: ')\n",
    "second = input('Enter second: ')\n",
    "\n",
    "if first < second:\n",
    "    print(f'{first} comes before {second}.')\n",
    "elif first > second:\n",
    "    print(f'{second} comes before {first}.')\n",
    "else:\n",
    "    print(f'{first} and {second} are the same!')"
   ]
  },
  {
   "cell_type": "markdown",
   "metadata": {},
   "source": [
    "# More sophisticated conditions: Combining them with `and` and `or`\n",
    "\n",
    "Sometimes, your condition will be based on *two* things:\n",
    "\n",
    "- You want both of them to be `True` in order for the block to fire -- `and`\n",
    "- You want at least one of them to be `True` in order for the block to fire -- `or`"
   ]
  },
  {
   "cell_type": "code",
   "execution_count": 69,
   "metadata": {},
   "outputs": [
    {
     "name": "stdout",
     "output_type": "stream",
     "text": [
      "Both are what you want\n"
     ]
    }
   ],
   "source": [
    "x = 10\n",
    "y = 20\n",
    "\n",
    "#     True    and        True  --> True\n",
    "if  x == 10    and    y == 20   :\n",
    "    print('Both are what you want')"
   ]
  },
  {
   "cell_type": "code",
   "execution_count": 70,
   "metadata": {},
   "outputs": [],
   "source": [
    "# and only returns True when both conditions (on its left and right) are True\n",
    "\n",
    "x = 10\n",
    "y = 20\n",
    "\n",
    "#     False    and        True  --> False\n",
    "if  x == 95    and    y == 20   :\n",
    "    print('Both are what you want')"
   ]
  },
  {
   "cell_type": "code",
   "execution_count": 71,
   "metadata": {},
   "outputs": [
    {
     "name": "stdout",
     "output_type": "stream",
     "text": [
      "At least one is what you want\n"
     ]
    }
   ],
   "source": [
    "# or is just like and, except that it returns True if *ONE OR MORE* of the conditions is True\n",
    "\n",
    "x = 10\n",
    "y = 20\n",
    "\n",
    "#      False    or    True  --> True\n",
    "if  x == 95    or    y == 20   :\n",
    "    print('At least one is what you want')"
   ]
  },
  {
   "cell_type": "markdown",
   "metadata": {},
   "source": [
    "# Exercise: Name and company\n",
    "\n",
    "1. Define two variables, `my_name` and `my_company`.\n",
    "2. Ask the user two questions:\n",
    "    - What is their name?\n",
    "    - What is their company?\n",
    "3. Give one of four responses:\n",
    "    - If your names and companies are both the same, say, \"You must be me!\"\n",
    "    - If only the name is the same, then compliment their great name and be snarky about their company\n",
    "    - If only the company is the same, then say \"hi\" to your colleague\n",
    "    - If neither is the same, be super snarky."
   ]
  },
  {
   "cell_type": "code",
   "execution_count": 73,
   "metadata": {},
   "outputs": [
    {
     "name": "stdin",
     "output_type": "stream",
     "text": [
      "Enter your name:  Someone else\n",
      "Enter your company:  Somewhere else\n"
     ]
    },
    {
     "name": "stdout",
     "output_type": "stream",
     "text": [
      "Hello, bad name from a bad company\n"
     ]
    }
   ],
   "source": [
    "my_name = 'Reuven'\n",
    "my_company = 'LernerPython'\n",
    "\n",
    "name = input('Enter your name: ')\n",
    "company = input('Enter your company: ')\n",
    "\n",
    "if name == my_name and company == my_company:\n",
    "    print('You must be me!')\n",
    "elif name == my_name:\n",
    "    print('Great name, terrible company!')\n",
    "elif company == my_company:\n",
    "    print(f'Hello, {name}, my esteemed colleague')\n",
    "else:\n",
    "    print(f'Hello, bad name from a bad company')   "
   ]
  },
  {
   "cell_type": "markdown",
   "metadata": {},
   "source": [
    "# Numbers\n",
    "\n",
    "Python supports two main types of numbers:\n",
    "\n",
    "- Integers (`int`), whole numbers\n",
    "- Floats (`float`), which have a decimal point"
   ]
  },
  {
   "cell_type": "code",
   "execution_count": 74,
   "metadata": {},
   "outputs": [
    {
     "data": {
      "text/plain": [
       "13"
      ]
     },
     "execution_count": 74,
     "metadata": {},
     "output_type": "execute_result"
    }
   ],
   "source": [
    "x = 10\n",
    "y = 3\n",
    "\n",
    "# what operations can I do on these integers?\n",
    "\n",
    "x + y  # addition"
   ]
  },
  {
   "cell_type": "code",
   "execution_count": 75,
   "metadata": {},
   "outputs": [
    {
     "data": {
      "text/plain": [
       "7"
      ]
     },
     "execution_count": 75,
     "metadata": {},
     "output_type": "execute_result"
    }
   ],
   "source": [
    "x - y   # subtraction"
   ]
  },
  {
   "cell_type": "code",
   "execution_count": 76,
   "metadata": {},
   "outputs": [
    {
     "data": {
      "text/plain": [
       "30"
      ]
     },
     "execution_count": 76,
     "metadata": {},
     "output_type": "execute_result"
    }
   ],
   "source": [
    "x * y    # multiplication"
   ]
  },
  {
   "cell_type": "code",
   "execution_count": 77,
   "metadata": {},
   "outputs": [
    {
     "data": {
      "text/plain": [
       "3.3333333333333335"
      ]
     },
     "execution_count": 77,
     "metadata": {},
     "output_type": "execute_result"
    }
   ],
   "source": [
    "x / y    # division -- truediv, which always returns a float"
   ]
  },
  {
   "cell_type": "code",
   "execution_count": 78,
   "metadata": {},
   "outputs": [
    {
     "data": {
      "text/plain": [
       "3"
      ]
     },
     "execution_count": 78,
     "metadata": {},
     "output_type": "execute_result"
    }
   ],
   "source": [
    "x // y   # division -- floordiv, which gives an integer, and removes the decimal part"
   ]
  },
  {
   "cell_type": "code",
   "execution_count": 79,
   "metadata": {},
   "outputs": [
    {
     "data": {
      "text/plain": [
       "1000"
      ]
     },
     "execution_count": 79,
     "metadata": {},
     "output_type": "execute_result"
    }
   ],
   "source": [
    "x ** y   # exponentiation  "
   ]
  },
  {
   "cell_type": "code",
   "execution_count": 80,
   "metadata": {},
   "outputs": [
    {
     "data": {
      "text/plain": [
       "1"
      ]
     },
     "execution_count": 80,
     "metadata": {},
     "output_type": "execute_result"
    }
   ],
   "source": [
    "x % y    # what is the remainder after we divide x by y?"
   ]
  },
  {
   "cell_type": "code",
   "execution_count": 81,
   "metadata": {},
   "outputs": [
    {
     "data": {
      "text/plain": [
       "11"
      ]
     },
     "execution_count": 81,
     "metadata": {},
     "output_type": "execute_result"
    }
   ],
   "source": [
    "# how can we add 1 to an existing value?\n",
    "\n",
    "x = 10\n",
    "\n",
    "x = x + 1    # remember, = is not the same as mathematical =\n",
    "\n",
    "x"
   ]
  },
  {
   "cell_type": "code",
   "execution_count": 82,
   "metadata": {},
   "outputs": [
    {
     "data": {
      "text/plain": [
       "11"
      ]
     },
     "execution_count": 82,
     "metadata": {},
     "output_type": "execute_result"
    }
   ],
   "source": [
    "# there's a shorter way to write this!\n",
    "\n",
    "x = 10\n",
    "\n",
    "x += 1    # this means precisely the same thing as x = x + 1\n",
    "x"
   ]
  },
  {
   "cell_type": "code",
   "execution_count": 83,
   "metadata": {
    "scrolled": true
   },
   "outputs": [
    {
     "ename": "ZeroDivisionError",
     "evalue": "division by zero",
     "output_type": "error",
     "traceback": [
      "\u001b[0;31m---------------------------------------------------------------------------\u001b[0m",
      "\u001b[0;31mZeroDivisionError\u001b[0m                         Traceback (most recent call last)",
      "Cell \u001b[0;32mIn[83], line 1\u001b[0m\n\u001b[0;32m----> 1\u001b[0m \u001b[38;5;241;43m10\u001b[39;49m\u001b[43m \u001b[49m\u001b[38;5;241;43m/\u001b[39;49m\u001b[43m \u001b[49m\u001b[38;5;241;43m0\u001b[39;49m\n",
      "\u001b[0;31mZeroDivisionError\u001b[0m: division by zero"
     ]
    }
   ],
   "source": [
    "10 / 0"
   ]
  },
  {
   "cell_type": "markdown",
   "metadata": {},
   "source": [
    "Some people wonder: How big can Python integers get? Are they only 64 bits in size, meaning that there is a max int?\n",
    "\n",
    "There is no max int! Python will try to use all of the memory in your system to create an integer that you ask for."
   ]
  },
  {
   "cell_type": "code",
   "execution_count": 84,
   "metadata": {},
   "outputs": [
    {
     "data": {
      "text/plain": [
       "30"
      ]
     },
     "execution_count": 84,
     "metadata": {},
     "output_type": "execute_result"
    }
   ],
   "source": [
    "# what happens if I have digits in a string, and want to get an integer from them?\n",
    "\n",
    "# we can invoke int() as a function, getting a new integer back based on a string value\n",
    "\n",
    "x = 10\n",
    "y = '20'   # string\n",
    "\n",
    "x + int(y)   # we're adding x (an int) and int(y), the integer based on y"
   ]
  },
  {
   "cell_type": "code",
   "execution_count": 85,
   "metadata": {},
   "outputs": [],
   "source": [
    "# notice that y is still a string! We haven't changed it! We've just created a new integer and didn't assign it to y"
   ]
  },
  {
   "cell_type": "code",
   "execution_count": 86,
   "metadata": {},
   "outputs": [],
   "source": [
    "y = int(y)   # now we're replacing the old (string) value of y with the new (integer) version"
   ]
  },
  {
   "cell_type": "code",
   "execution_count": 88,
   "metadata": {},
   "outputs": [
    {
     "data": {
      "text/plain": [
       "123"
      ]
     },
     "execution_count": 88,
     "metadata": {},
     "output_type": "execute_result"
    }
   ],
   "source": [
    "s = '123'\n",
    "int(s)"
   ]
  },
  {
   "cell_type": "code",
   "execution_count": 89,
   "metadata": {},
   "outputs": [
    {
     "ename": "ValueError",
     "evalue": "invalid literal for int() with base 10: 'hello'",
     "output_type": "error",
     "traceback": [
      "\u001b[0;31m---------------------------------------------------------------------------\u001b[0m",
      "\u001b[0;31mValueError\u001b[0m                                Traceback (most recent call last)",
      "Cell \u001b[0;32mIn[89], line 2\u001b[0m\n\u001b[1;32m      1\u001b[0m s \u001b[38;5;241m=\u001b[39m \u001b[38;5;124m'\u001b[39m\u001b[38;5;124mhello\u001b[39m\u001b[38;5;124m'\u001b[39m\n\u001b[0;32m----> 2\u001b[0m \u001b[38;5;28;43mint\u001b[39;49m\u001b[43m(\u001b[49m\u001b[43ms\u001b[49m\u001b[43m)\u001b[49m\n",
      "\u001b[0;31mValueError\u001b[0m: invalid literal for int() with base 10: 'hello'"
     ]
    }
   ],
   "source": [
    "s = 'hello'\n",
    "int(s)"
   ]
  },
  {
   "cell_type": "code",
   "execution_count": 90,
   "metadata": {},
   "outputs": [
    {
     "ename": "ValueError",
     "evalue": "invalid literal for int() with base 10: '12ab34'",
     "output_type": "error",
     "traceback": [
      "\u001b[0;31m---------------------------------------------------------------------------\u001b[0m",
      "\u001b[0;31mValueError\u001b[0m                                Traceback (most recent call last)",
      "Cell \u001b[0;32mIn[90], line 2\u001b[0m\n\u001b[1;32m      1\u001b[0m s \u001b[38;5;241m=\u001b[39m \u001b[38;5;124m'\u001b[39m\u001b[38;5;124m12ab34\u001b[39m\u001b[38;5;124m'\u001b[39m\n\u001b[0;32m----> 2\u001b[0m \u001b[38;5;28;43mint\u001b[39;49m\u001b[43m(\u001b[49m\u001b[43ms\u001b[49m\u001b[43m)\u001b[49m\n",
      "\u001b[0;31mValueError\u001b[0m: invalid literal for int() with base 10: '12ab34'"
     ]
    }
   ],
   "source": [
    "s = '12ab34'\n",
    "int(s)"
   ]
  },
  {
   "cell_type": "markdown",
   "metadata": {},
   "source": [
    "# Exercise: Guessing game\n",
    "\n",
    "1. Define `secret` to be an integer between 1-100.\n",
    "2. Print `secret` on the screen, so that we can cheat.\n",
    "3. Ask the user to guess the number, and assign to `guess`.\n",
    "4. You should print one of the following, based on whether they guessed `secret` correctly:\n",
    "    - You got it!\n",
    "    - Too low\n",
    "    - Too high\n",
    "5. The user gets a single chance to guess!\n",
    "\n",
    "Example:\n",
    "\n",
    "    secret is 35\n",
    "    Enter guess: 35\n",
    "    You got it!\n",
    "\n",
    "    secret is 23\n",
    "    Enter guess: 90\n",
    "    Too high!\n",
    "\n",
    "    "
   ]
  },
  {
   "cell_type": "code",
   "execution_count": 91,
   "metadata": {},
   "outputs": [
    {
     "name": "stdout",
     "output_type": "stream",
     "text": [
      "Secret is 35\n"
     ]
    },
    {
     "name": "stdin",
     "output_type": "stream",
     "text": [
      "Guess:  35\n"
     ]
    },
    {
     "ename": "TypeError",
     "evalue": "'<' not supported between instances of 'str' and 'int'",
     "output_type": "error",
     "traceback": [
      "\u001b[0;31m---------------------------------------------------------------------------\u001b[0m",
      "\u001b[0;31mTypeError\u001b[0m                                 Traceback (most recent call last)",
      "Cell \u001b[0;32mIn[91], line 9\u001b[0m\n\u001b[1;32m      7\u001b[0m \u001b[38;5;28;01mif\u001b[39;00m guess \u001b[38;5;241m==\u001b[39m secret:\n\u001b[1;32m      8\u001b[0m     \u001b[38;5;28mprint\u001b[39m(\u001b[38;5;124m'\u001b[39m\u001b[38;5;124mYou got it!\u001b[39m\u001b[38;5;124m'\u001b[39m)\n\u001b[0;32m----> 9\u001b[0m \u001b[38;5;28;01melif\u001b[39;00m \u001b[43mguess\u001b[49m\u001b[43m \u001b[49m\u001b[38;5;241;43m<\u001b[39;49m\u001b[43m \u001b[49m\u001b[43msecret\u001b[49m:\n\u001b[1;32m     10\u001b[0m     \u001b[38;5;28mprint\u001b[39m(\u001b[38;5;124m'\u001b[39m\u001b[38;5;124mToo low!\u001b[39m\u001b[38;5;124m'\u001b[39m)\n\u001b[1;32m     11\u001b[0m \u001b[38;5;28;01melse\u001b[39;00m:\n",
      "\u001b[0;31mTypeError\u001b[0m: '<' not supported between instances of 'str' and 'int'"
     ]
    }
   ],
   "source": [
    "secret = 35\n",
    "\n",
    "print(f'Secret is {secret}')\n",
    "\n",
    "guess = input('Guess: ')    # guess is a string, not an integer!\n",
    "\n",
    "if guess == secret:         # when I compare them, this will be FALSE no matter what\n",
    "    print('You got it!')\n",
    "elif guess < secret:\n",
    "    print('Too low!')\n",
    "else:\n",
    "    print('Too high!')"
   ]
  },
  {
   "cell_type": "code",
   "execution_count": 94,
   "metadata": {},
   "outputs": [
    {
     "name": "stdout",
     "output_type": "stream",
     "text": [
      "Secret is 35\n"
     ]
    },
    {
     "name": "stdin",
     "output_type": "stream",
     "text": [
      "Guess:  100\n"
     ]
    },
    {
     "name": "stdout",
     "output_type": "stream",
     "text": [
      "Too high!\n"
     ]
    }
   ],
   "source": [
    "secret = 35                # this an integer, because it was defined with only digits (no quotes in sight)b\n",
    "\n",
    "print(f'Secret is {secret}')\n",
    "\n",
    "guess = input('Guess: ')    # guess is a string, not an integer!\n",
    "guess = int(guess)          # get an integer based on guess, and assign back to guess\n",
    "\n",
    "if guess == secret:         \n",
    "    print('You got it!')\n",
    "elif guess < secret:\n",
    "    print('Too low!')\n",
    "else:\n",
    "    print('Too high!')"
   ]
  },
  {
   "cell_type": "code",
   "execution_count": 96,
   "metadata": {},
   "outputs": [
    {
     "name": "stdout",
     "output_type": "stream",
     "text": [
      "Secret is 23\n"
     ]
    },
    {
     "name": "stdin",
     "output_type": "stream",
     "text": [
      "Guess the number:  100\n"
     ]
    },
    {
     "name": "stdout",
     "output_type": "stream",
     "text": [
      "Too low!\n"
     ]
    }
   ],
   "source": [
    "# CC\n",
    "\n",
    "secret = \"23\"\n",
    "\n",
    "print(f\"Secret is {secret}\")\n",
    "\n",
    "guess = input(\"Guess the number: \")\n",
    "if guess == secret:\n",
    "    print(\"Nice job!\")\n",
    "elif guess > secret:\n",
    "    print(\"Too high!\")\n",
    "else:\n",
    "    print(\"Too low!\")"
   ]
  },
  {
   "cell_type": "markdown",
   "metadata": {},
   "source": [
    "In Python (and all dynamic languages):\n",
    "\n",
    "- values have types\n",
    "- variables don't have types\n",
    "\n",
    "There is no way to say, \"This variable will always contain integers\" or \"this variable will always contain strings.\" That is impossible in Python!\n",
    "\n",
    "There is thus no way (or reason) to \"declare\" a variable in Python. Such declarations don't exist.\n",
    "\n",
    "The first time you assign to a variable, it springs into existence. It can be assigned anything... and after that, it can still be assigned anything.\n",
    "\n",
    "There is a mechanism called \"type hints\" that is increasingly common in Python, but we're ignoring it and it's not a core part of the language."
   ]
  },
  {
   "cell_type": "code",
   "execution_count": 98,
   "metadata": {},
   "outputs": [
    {
     "name": "stdin",
     "output_type": "stream",
     "text": [
      "Enter a number:  1234\n"
     ]
    },
    {
     "data": {
      "text/plain": [
       "int"
      ]
     },
     "execution_count": 98,
     "metadata": {},
     "output_type": "execute_result"
    }
   ],
   "source": [
    "# this will work... unless the user doesn't enter a number.\n",
    "# we will soon (after the break) talk about methods, and we'll a way to protect our data a bit.\n",
    "\n",
    "n = int(input('Enter a number: '))\n",
    "\n",
    "type(n)"
   ]
  },
  {
   "cell_type": "code",
   "execution_count": 99,
   "metadata": {},
   "outputs": [
    {
     "data": {
      "text/plain": [
       "float"
      ]
     },
     "execution_count": 99,
     "metadata": {},
     "output_type": "execute_result"
    }
   ],
   "source": [
    "x = 12.34\n",
    "\n",
    "type(x)   # the type function tells me what kind of value we have"
   ]
  },
  {
   "cell_type": "code",
   "execution_count": 100,
   "metadata": {},
   "outputs": [
    {
     "data": {
      "text/plain": [
       "12"
      ]
     },
     "execution_count": 100,
     "metadata": {},
     "output_type": "execute_result"
    }
   ],
   "source": [
    "int(x)"
   ]
  },
  {
   "cell_type": "code",
   "execution_count": 101,
   "metadata": {},
   "outputs": [
    {
     "data": {
      "text/plain": [
       "123.0"
      ]
     },
     "execution_count": 101,
     "metadata": {},
     "output_type": "execute_result"
    }
   ],
   "source": [
    "float(123)"
   ]
  },
  {
   "cell_type": "markdown",
   "metadata": {},
   "source": [
    "# Next up\n",
    "\n",
    "1. Strings\n",
    "2. Methods"
   ]
  },
  {
   "cell_type": "markdown",
   "metadata": {},
   "source": [
    "Strings are Python's data type for working with text -- no matter how short or long. (There is no \"character\" type in Python.)\n",
    "\n",
    "We can define strings, as we saw, with quotes -- either `''` or `\"\"`. Unlike some other languages, there is *no* difference between the two in Python.\n",
    "\n",
    "A string can contain any characters we want from any language."
   ]
  },
  {
   "cell_type": "code",
   "execution_count": 102,
   "metadata": {},
   "outputs": [
    {
     "data": {
      "text/plain": [
       "str"
      ]
     },
     "execution_count": 102,
     "metadata": {},
     "output_type": "execute_result"
    }
   ],
   "source": [
    "s = 'abcdefghij'\n",
    "\n",
    "type(s)"
   ]
  },
  {
   "cell_type": "code",
   "execution_count": 103,
   "metadata": {},
   "outputs": [
    {
     "data": {
      "text/plain": [
       "10"
      ]
     },
     "execution_count": 103,
     "metadata": {},
     "output_type": "execute_result"
    }
   ],
   "source": [
    "# how long is s? We can use the \"len\" function\n",
    "\n",
    "len(s)   "
   ]
  },
  {
   "cell_type": "code",
   "execution_count": 104,
   "metadata": {},
   "outputs": [
    {
     "data": {
      "text/plain": [
       "'a'"
      ]
     },
     "execution_count": 104,
     "metadata": {},
     "output_type": "execute_result"
    }
   ],
   "source": [
    "# how can I retrieve an individual character from s?\n",
    "# I can use [], putting the index of the character I want in the brackets\n",
    "# the indexes start at 0, not 1!\n",
    "# so if we ask for s[0], we'll get 'a'\n",
    "\n",
    "s[0]"
   ]
  },
  {
   "cell_type": "code",
   "execution_count": 105,
   "metadata": {},
   "outputs": [
    {
     "data": {
      "text/plain": [
       "'b'"
      ]
     },
     "execution_count": 105,
     "metadata": {},
     "output_type": "execute_result"
    }
   ],
   "source": [
    "s[1]"
   ]
  },
  {
   "cell_type": "code",
   "execution_count": 106,
   "metadata": {},
   "outputs": [
    {
     "data": {
      "text/plain": [
       "'d'"
      ]
     },
     "execution_count": 106,
     "metadata": {},
     "output_type": "execute_result"
    }
   ],
   "source": [
    "# I can use a variable in there, instead\n",
    "\n",
    "index = 3\n",
    "s[index]"
   ]
  },
  {
   "cell_type": "code",
   "execution_count": 107,
   "metadata": {},
   "outputs": [
    {
     "ename": "IndexError",
     "evalue": "string index out of range",
     "output_type": "error",
     "traceback": [
      "\u001b[0;31m---------------------------------------------------------------------------\u001b[0m",
      "\u001b[0;31mIndexError\u001b[0m                                Traceback (most recent call last)",
      "Cell \u001b[0;32mIn[107], line 4\u001b[0m\n\u001b[1;32m      1\u001b[0m \u001b[38;5;66;03m# how can I get the final character in s?\u001b[39;00m\n\u001b[1;32m      2\u001b[0m \u001b[38;5;66;03m# we know that the length is 10\u001b[39;00m\n\u001b[0;32m----> 4\u001b[0m \u001b[43ms\u001b[49m\u001b[43m[\u001b[49m\u001b[38;5;241;43m10\u001b[39;49m\u001b[43m]\u001b[49m\n",
      "\u001b[0;31mIndexError\u001b[0m: string index out of range"
     ]
    }
   ],
   "source": [
    "# how can I get the final character in s?\n",
    "# we know that the length is 10\n",
    "\n",
    "s[10]   # 10 is too big! "
   ]
  },
  {
   "cell_type": "code",
   "execution_count": 108,
   "metadata": {},
   "outputs": [
    {
     "data": {
      "text/plain": [
       "'j'"
      ]
     },
     "execution_count": 108,
     "metadata": {},
     "output_type": "execute_result"
    }
   ],
   "source": [
    "# 10 characters? the indexes go from 0 through 9\n",
    "\n",
    "s[9]"
   ]
  },
  {
   "cell_type": "code",
   "execution_count": 109,
   "metadata": {},
   "outputs": [
    {
     "data": {
      "text/plain": [
       "'j'"
      ]
     },
     "execution_count": 109,
     "metadata": {},
     "output_type": "execute_result"
    }
   ],
   "source": [
    "# I can even calculate it\n",
    "\n",
    "s[ len(s)-1 ]    # the top index will be 1 less than the length"
   ]
  },
  {
   "cell_type": "code",
   "execution_count": 110,
   "metadata": {},
   "outputs": [
    {
     "data": {
      "text/plain": [
       "'j'"
      ]
     },
     "execution_count": 110,
     "metadata": {},
     "output_type": "execute_result"
    }
   ],
   "source": [
    "# Python actually provides a nifty feature -- negative indexes!\n",
    "\n",
    "s[-1]   # this returns the final character from the string, or index 1 counting from the right"
   ]
  },
  {
   "cell_type": "code",
   "execution_count": 111,
   "metadata": {},
   "outputs": [
    {
     "data": {
      "text/plain": [
       "'i'"
      ]
     },
     "execution_count": 111,
     "metadata": {},
     "output_type": "execute_result"
    }
   ],
   "source": [
    "s[-2]"
   ]
  },
  {
   "cell_type": "code",
   "execution_count": 112,
   "metadata": {},
   "outputs": [
    {
     "data": {
      "text/plain": [
       "'h'"
      ]
     },
     "execution_count": 112,
     "metadata": {},
     "output_type": "execute_result"
    }
   ],
   "source": [
    "s[-3]"
   ]
  },
  {
   "cell_type": "code",
   "execution_count": 113,
   "metadata": {},
   "outputs": [
    {
     "data": {
      "text/plain": [
       "True"
      ]
     },
     "execution_count": 113,
     "metadata": {},
     "output_type": "execute_result"
    }
   ],
   "source": [
    "# two other things to know about strings\n",
    "# (1) we can search in a string using \"in\", which returns True or False\n",
    "\n",
    "'a' in s"
   ]
  },
  {
   "cell_type": "code",
   "execution_count": 114,
   "metadata": {},
   "outputs": [
    {
     "data": {
      "text/plain": [
       "True"
      ]
     },
     "execution_count": 114,
     "metadata": {},
     "output_type": "execute_result"
    }
   ],
   "source": [
    "'bcd' in s   # is the sequence 'bcd' inside of s?"
   ]
  },
  {
   "cell_type": "code",
   "execution_count": 115,
   "metadata": {},
   "outputs": [
    {
     "data": {
      "text/plain": [
       "False"
      ]
     },
     "execution_count": 115,
     "metadata": {},
     "output_type": "execute_result"
    }
   ],
   "source": [
    "'bd' in s   "
   ]
  },
  {
   "cell_type": "code",
   "execution_count": 116,
   "metadata": {},
   "outputs": [
    {
     "data": {
      "text/plain": [
       "'cdef'"
      ]
     },
     "execution_count": 116,
     "metadata": {},
     "output_type": "execute_result"
    }
   ],
   "source": [
    "# (2) we can retrieve pieces of a string with a \"slice\"\n",
    "# you define a slice with [start:end]  \n",
    "# if we do that, we get a new string back, based on s, starting at \"start\" and up to (and not including) \"end\"\n",
    "\n",
    "s[2:6]  # this returns s[2] ... s[5], up to and not including s[6]"
   ]
  },
  {
   "cell_type": "markdown",
   "metadata": {},
   "source": [
    "# Exercise: Return a character\n",
    "\n",
    "1. Ask the user to enter text, and assign to `text`.\n",
    "2. Ask the user to enter an integer, and assign to `index`.\n",
    "3. If `index` is < 0, give the user an error.\n",
    "4. If `index` is too high, give the user an error.\n",
    "5. Otherwise, print the character at `index` in `text`.\n",
    "\n",
    "Example:\n",
    "\n",
    "    Enter text: hi there\n",
    "    Enter index: 5\n",
    "    index 5 in hi there is e."
   ]
  },
  {
   "cell_type": "markdown",
   "metadata": {},
   "source": [
    "Some ideas for coding\n",
    "\n",
    "- Be optimistic (at first)\n",
    "- Do something small/minimal that will get you closer to the solution you want, not all the way there. If something works, then repeat this step."
   ]
  },
  {
   "cell_type": "code",
   "execution_count": 121,
   "metadata": {},
   "outputs": [
    {
     "name": "stdin",
     "output_type": "stream",
     "text": [
      "Enter text:  everyone\n",
      "Enter index:  7\n"
     ]
    },
    {
     "name": "stdout",
     "output_type": "stream",
     "text": [
      "Index 7 in everyone is e\n"
     ]
    }
   ],
   "source": [
    "text = input('Enter text: ')\n",
    "\n",
    "index = input('Enter index: ')\n",
    "index = int(index)\n",
    "\n",
    "if index < 0:\n",
    "    print(f'Too low!')\n",
    "elif index >= len(text):\n",
    "    print(f'Too high!')\n",
    "else:\n",
    "    print(f'Index {index} in {text} is {text[index]}')"
   ]
  },
  {
   "cell_type": "code",
   "execution_count": 122,
   "metadata": {},
   "outputs": [
    {
     "name": "stdin",
     "output_type": "stream",
     "text": [
      "Enter a text:  abc\n",
      "Enter an integer 1\n"
     ]
    },
    {
     "name": "stdout",
     "output_type": "stream",
     "text": [
      "b\n"
     ]
    }
   ],
   "source": [
    "# SL\n",
    "\n",
    "text = input('Enter a text: ')\n",
    "index = input('Enter an integer')\n",
    "index = int(index)\n",
    "\n",
    "if index < 0:\n",
    "    print(\"Error\")\n",
    "elif index >= len(text):\n",
    "    print(\"Error\")\n",
    "else:\n",
    "    print(text[index])\n",
    "  "
   ]
  },
  {
   "cell_type": "code",
   "execution_count": null,
   "metadata": {},
   "outputs": [],
   "source": [
    "# CC\n",
    "\n",
    "text = input(\"Input a word: \")\n",
    "index = input(\"Input a number: \")\n",
    "index = int(index)\n",
    "\n",
    "if len(text) > index:   # if the length > index ... error\n",
    "    print(\"ERROR\")\n",
    "elif len(text) < index:   # if the length < index ... error\n",
    "    print(\"ERROR\")\n",
    "else:\n",
    "    print(f\"index {index} in {text} is {text[index]}\")"
   ]
  },
  {
   "cell_type": "markdown",
   "metadata": {},
   "source": [
    "# Exercise: Pig Latin!\n",
    "\n",
    "Pig Latin is a children's \"secret\" language. To translate from English into Pig Latin:\n",
    "\n",
    "- If the first letter is a vowel (a, e, i, o, u) then add `way` to the word\n",
    "- In all other cases, move the first letter to the end, and add `ay`\n",
    "\n",
    "Examples:\n",
    "\n",
    "- `computer` -> `omputercay` (moved `c` to the end, and add `ay`)\n",
    "- `elephant` -> `elephantway` (just added `way`, because of the vowel)\n",
    "- `papaya` -> `apayapay`\n",
    "\n",
    "1. Ask the user to enter a word. One word, all lowercase, no punctuation.\n",
    "2. Check if the word starts with a vowel.\n",
    "    - If so, then print the word + `way`\n",
    "3. Otherwise, move the first letter to the end\n",
    "    - Grab a slice from index 1 to the end (just leave off the index index, i.e., `s[1:]`)\n",
    "    - Then add the first letter (from index 0)\n",
    "    - Then add `ay`"
   ]
  },
  {
   "cell_type": "code",
   "execution_count": 124,
   "metadata": {},
   "outputs": [
    {
     "name": "stdin",
     "output_type": "stream",
     "text": [
      "Enter a word:  banana\n"
     ]
    }
   ],
   "source": [
    "word = input('Enter a word: ')\n",
    "\n",
    "# does the word start with a vowel?\n",
    "if word[0] == 'a' or word[0] == 'e' or word[0] == 'i' or word[0] == 'o' or word[0] == 'u':\n",
    "    print(word + 'way')"
   ]
  },
  {
   "cell_type": "code",
   "execution_count": 127,
   "metadata": {},
   "outputs": [
    {
     "name": "stdin",
     "output_type": "stream",
     "text": [
      "Enter a word:  whatever\n"
     ]
    },
    {
     "name": "stdout",
     "output_type": "stream",
     "text": [
      "hateverway\n"
     ]
    }
   ],
   "source": [
    "# here's a better way\n",
    "\n",
    "word = input('Enter a word: ')\n",
    "\n",
    "if word[0] in 'aeiou':  # search for the first letter in a string\n",
    "    print(word + 'way')\n",
    "else:\n",
    "    print(word[1:] + word[0] + 'ay')"
   ]
  },
  {
   "cell_type": "code",
   "execution_count": null,
   "metadata": {},
   "outputs": [],
   "source": [
    "# EP\n",
    "\n",
    "vowel = \"aeiou\"\n",
    "\n",
    "word = input(\"enter a word: \")\n",
    "if word[0] in vowel:\n",
    "    print(word + \"way\")\n",
    "else:\n",
    "  new =  word[1:]\n",
    "  print(new + word[0] + \"ay\")\n"
   ]
  },
  {
   "cell_type": "markdown",
   "metadata": {},
   "source": [
    "# Methods (vs. functions)\n",
    "\n",
    "So far, we have used *functions* as the verbs in our programs:\n",
    "\n",
    "- `print`\n",
    "- `input`\n",
    "- `len`\n",
    "- `type`\n",
    "\n",
    "There is another (more common) type of verb in Python, known as a *method*. Whereas functions are free floating, and aren't connected to any particular data, methods are very much connected.\n",
    "\n",
    "A function call looks like this:\n",
    "\n",
    "    FUNC(DATA)\n",
    "\n",
    "A method call, by contrast, looks like this:\n",
    "\n",
    "    DATA.METHOD()\n",
    "\n",
    "In both cases, we use `()` to indicate that we want to execute the function/method. We can pass arguments to both, too.\n",
    "\n",
    "The difference is that a method is attached to a value.\n",
    "\n",
    "Strings have a bunch of methods. Among them:\n",
    "\n",
    "- `str.strip`, which removes leading/trailing space characters\n",
    "- `str.lower`, which returns a new string all in lowercase\n",
    "- `str.isdigit`, which returns `True` if a string only contains digits -- and can be turned into an `int` without error"
   ]
  },
  {
   "cell_type": "code",
   "execution_count": 128,
   "metadata": {},
   "outputs": [
    {
     "name": "stdin",
     "output_type": "stream",
     "text": [
      "Enter your name:           Reuven        \n"
     ]
    },
    {
     "name": "stdout",
     "output_type": "stream",
     "text": [
      "Hello,          Reuven        .\n"
     ]
    }
   ],
   "source": [
    "s = input('Enter your name: ')\n",
    "\n",
    "print(f'Hello, {s}.')"
   ]
  },
  {
   "cell_type": "code",
   "execution_count": 130,
   "metadata": {},
   "outputs": [
    {
     "data": {
      "text/plain": [
       "'         Reuven        '"
      ]
     },
     "execution_count": 130,
     "metadata": {},
     "output_type": "execute_result"
    }
   ],
   "source": [
    "s"
   ]
  },
  {
   "cell_type": "code",
   "execution_count": 131,
   "metadata": {},
   "outputs": [
    {
     "name": "stdin",
     "output_type": "stream",
     "text": [
      "Enter your name:         Reuven         \n"
     ]
    },
    {
     "name": "stdout",
     "output_type": "stream",
     "text": [
      "Hello, Reuven.\n"
     ]
    }
   ],
   "source": [
    "s = input('Enter your name: ')\n",
    "s = s.strip()   # get a new string based on s, without leading/trailing spaces\n",
    "\n",
    "print(f'Hello, {s}.')"
   ]
  },
  {
   "cell_type": "code",
   "execution_count": 132,
   "metadata": {},
   "outputs": [
    {
     "name": "stdin",
     "output_type": "stream",
     "text": [
      "Enter your name:         Reuven       \n"
     ]
    },
    {
     "name": "stdout",
     "output_type": "stream",
     "text": [
      "Hello, Reuven.\n"
     ]
    }
   ],
   "source": [
    "# this is my preferred way to get input from the user:\n",
    "\n",
    "s = input('Enter your name: ').strip()    # here, we run str.strip on the result from input directly\n",
    "print(f'Hello, {s}.')"
   ]
  },
  {
   "cell_type": "code",
   "execution_count": 133,
   "metadata": {},
   "outputs": [
    {
     "data": {
      "text/plain": [
       "False"
      ]
     },
     "execution_count": 133,
     "metadata": {},
     "output_type": "execute_result"
    }
   ],
   "source": [
    "# second method to show you is str.lower\n",
    "\n",
    "s1 = 'abcd'\n",
    "s2 = 'ABCD'\n",
    "\n",
    "s1 == s2"
   ]
  },
  {
   "cell_type": "code",
   "execution_count": 134,
   "metadata": {},
   "outputs": [
    {
     "data": {
      "text/plain": [
       "True"
      ]
     },
     "execution_count": 134,
     "metadata": {},
     "output_type": "execute_result"
    }
   ],
   "source": [
    "s1.lower() == s2.lower()  # by lowercasing both, we're comparing similar strings"
   ]
  },
  {
   "cell_type": "code",
   "execution_count": 135,
   "metadata": {},
   "outputs": [
    {
     "data": {
      "text/plain": [
       "'abcd'"
      ]
     },
     "execution_count": 135,
     "metadata": {},
     "output_type": "execute_result"
    }
   ],
   "source": [
    "s1"
   ]
  },
  {
   "cell_type": "code",
   "execution_count": 136,
   "metadata": {},
   "outputs": [
    {
     "data": {
      "text/plain": [
       "'ABCD'"
      ]
     },
     "execution_count": 136,
     "metadata": {},
     "output_type": "execute_result"
    }
   ],
   "source": [
    "s2"
   ]
  },
  {
   "cell_type": "code",
   "execution_count": 139,
   "metadata": {},
   "outputs": [
    {
     "name": "stdin",
     "output_type": "stream",
     "text": [
      "Enter your guess:  12 34\n"
     ]
    },
    {
     "name": "stdout",
     "output_type": "stream",
     "text": [
      "12 34 is not numeric.\n"
     ]
    }
   ],
   "source": [
    "# str.isdigit -- returns True if a string only contains digits\n",
    "\n",
    "secret = 35\n",
    "\n",
    "guess = input('Enter your guess: ').strip()\n",
    "\n",
    "if guess.isdigit():   # can we safely turn it into an int?\n",
    "    guess = int(guess)\n",
    "\n",
    "    if guess == secret:\n",
    "        print('You got it!')\n",
    "    elif guess < secret:\n",
    "        print('Too low')\n",
    "    else:\n",
    "        print('Too high')\n",
    "\n",
    "else:  # this fires if guess.isdigit() returns False -- meaning, it's not numeric\n",
    "    print(f'{guess} is not numeric.')"
   ]
  },
  {
   "cell_type": "markdown",
   "metadata": {},
   "source": [
    "# Next time\n",
    "\n",
    "- Review/Q&A\n",
    "- Loops (`for` and `while`)\n",
    "- Lists\n",
    "    - How do we create them?\n",
    "    - How do we modify them?\n",
    "    - How are lists similar to strings? (Answer: In many many ways)\n",
    "    - List methods\n",
    "- Turning strings into lists, and vice versa\n",
    "- Tuple\n",
    "\n",
    "#### To prepare for next time:\n",
    "\n",
    "1. Review my videos at O'Reilly for installing Python + Jupyter and/or VSCode\n",
    "2. Try to do some simple experimenting. Even redo the exercises from today, to make sure you feel (more) confident. Try variations of them.\n"
   ]
  },
  {
   "cell_type": "code",
   "execution_count": null,
   "metadata": {},
   "outputs": [],
   "source": []
  }
 ],
 "metadata": {
  "kernelspec": {
   "display_name": "Python 3 (ipykernel)",
   "language": "python",
   "name": "python3"
  },
  "language_info": {
   "codemirror_mode": {
    "name": "ipython",
    "version": 3
   },
   "file_extension": ".py",
   "mimetype": "text/x-python",
   "name": "python",
   "nbconvert_exporter": "python",
   "pygments_lexer": "ipython3",
   "version": "3.13.1"
  }
 },
 "nbformat": 4,
 "nbformat_minor": 4
}
