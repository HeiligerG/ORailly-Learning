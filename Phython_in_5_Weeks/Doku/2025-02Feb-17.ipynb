{
 "cells": [
  {
   "cell_type": "markdown",
   "metadata": {},
   "source": [
    "# Agenda, day 2: Loops, lists, and tuples\n",
    "\n",
    "1. Q&A\n",
    "2. Loops\n",
    "    - `for`\n",
    "    - Looping a number of times\n",
    "    - What about the index?\n",
    "    - `break` and `continue` -- control our loops\n",
    "    - `while`\n",
    "3. Lists (another data structure)\n",
    "    - The basics\n",
    "    - How are lists similar to (and different from) strings?\n",
    "    - Lists are mutable; we can change them!\n",
    "    - List methods\n",
    "4. Converting strings to lists, and back\n",
    "    - Turning strings into lists with `str.split`\n",
    "    - Turning lists into strings with `str.join`\n",
    "5. Tuples (another data structure)\n",
    "    - How they are similar to and different from lists\n",
    "    - Why do we need tuples?\n",
    "    - Tuple unpacking\n"
   ]
  },
  {
   "cell_type": "code",
   "execution_count": 2,
   "metadata": {},
   "outputs": [
    {
     "name": "stdout",
     "output_type": "stream",
     "text": [
      "a\n",
      "b\n",
      "c\n",
      "d\n"
     ]
    }
   ],
   "source": [
    "s = 'abcd'\n",
    "\n",
    "# I want to print every character in s\n",
    "\n",
    "print(s[0])\n",
    "print(s[1])\n",
    "print(s[2])\n",
    "print(s[3])"
   ]
  },
  {
   "cell_type": "markdown",
   "metadata": {},
   "source": [
    "# DRY -- don't repeat yourself!\n",
    "\n",
    "The \"DRY rule\" means: If you have code that repeats itself (or kind of repeats itself), then you're likely doing it wrong:\n",
    "\n",
    "- You're writing too much code\n",
    "- You're then going to have to read/maintain too much code\n",
    "- If something changes, you'll have to change it in many places\n",
    "\n",
    "If you can centralize your code, and only write it once, you're in a much better spot.\n",
    "\n",
    "In this case, lines 5, 6, 7, and 8 are all pretty much the same thing, just changing which letter they want to print."
   ]
  },
  {
   "cell_type": "markdown",
   "metadata": {},
   "source": [
    "# Loops\n",
    "\n",
    "A loop allows us to run the same code multiple times, each time typically with a small difference/change.\n",
    "\n",
    "Python has two kinds of loops:\n",
    "\n",
    "- `for` (much more common)\n",
    "- `while`\n",
    "\n"
   ]
  },
  {
   "cell_type": "code",
   "execution_count": 4,
   "metadata": {},
   "outputs": [
    {
     "name": "stdout",
     "output_type": "stream",
     "text": [
      "Before\n",
      "a\n",
      "b\n",
      "c\n",
      "d\n",
      "After\n"
     ]
    }
   ],
   "source": [
    "# here's some code that does the same thing as we saw above\n",
    "\n",
    "s = 'abcd'\n",
    "\n",
    "print('Before')\n",
    "for one_character in s:\n",
    "    print(one_character)\n",
    "print('After')    "
   ]
  },
  {
   "cell_type": "markdown",
   "metadata": {},
   "source": [
    "# What's happening here?\n",
    "\n",
    "- `for` is at the start of the line, and indicates we want to iterate over some multi-part data\n",
    "- That multi-part value is at the end of the line (in this case, `s`)\n",
    "- `for` turns to `s` and asks: Are you iterable? Do you even know how to work in a `for` loop?\n",
    "    - If the answer is \"no,\" then we get an error and the loop ends\n",
    "- If the answer is \"yes,\" then `for` asks `s` for its next value\n",
    "    - If there are no more values, then the loop ends (without an error)\n",
    "- The next value is assigned to the \"loop variable\", here `one_character`\n",
    "- The \"loop body\" (after a `:`, and indented) is then executed with `one_character` assigned to\n",
    "- When the loop body ends, we go back to line 5 and get the next value, repeating the last few steps"
   ]
  },
  {
   "cell_type": "markdown",
   "metadata": {},
   "source": [
    "# A few things to notice\n",
    "\n",
    "1. The structure is `for LOOP_VARIABLE in MULTIPART_VALUE`\n",
    "2. The loop body can be any length you want; it is indented.\n",
    "3. The loop body can contain any code you want -- assignment, `print`, `input`, another `for` loop, `if`, ... you name it.\n",
    "4. Notice that there is no index here! We aren't iterating over the indexes of items in `s`, but rather the characters in `s`!\n",
    "5. How do I get characters? Because `s` is a string, and by definition, strings give us one character at a time when we iterate over them.\n",
    "6. This means that the loop variable's name, `one_character` has **ZERO INFLUENCE** over what we get with each iteration, or how many iterations there are. We could call that variable **ANYTHING** we want. The name is for us, not for Python.\n",
    "7. The number of iterations, and the types of values I get in each iteration, are up to the value (`s`), not up to the loop!\n",
    "8. The loop variable is defined right there in your `for` loop. If the variable was previously defined, then its value is overwritten. You can choose any variable you want -- just remember that you'll need to remember what it does."
   ]
  },
  {
   "cell_type": "code",
   "execution_count": 5,
   "metadata": {},
   "outputs": [
    {
     "name": "stdout",
     "output_type": "stream",
     "text": [
      "Found a vowel, a\n",
      "Consonant, b\n",
      "Consonant, c\n",
      "Consonant, d\n",
      "Found a vowel, e\n",
      "Consonant, f\n",
      "Consonant, g\n",
      "Consonant, h\n",
      "Found a vowel, i\n",
      "Consonant, j\n"
     ]
    }
   ],
   "source": [
    "s = 'abcdefghij'\n",
    "\n",
    "for one_character in s:\n",
    "    if one_character in 'aeiou':\n",
    "        print(f'Found a vowel, {one_character}')\n",
    "    else:\n",
    "        print(f'Consonant, {one_character}')"
   ]
  },
  {
   "cell_type": "markdown",
   "metadata": {},
   "source": [
    "# Exercise: Vowels, digits, and others\n",
    "\n",
    "1. Define three variables, `vowels`, `digits`, and `others`, and assign them all the value 0.\n",
    "2. Ask the user (with `input`) to enter a string.\n",
    "3. Use a `for` loop to go through the string, one character at a time.\n",
    "    - If it's a vowel, then add 1 to `vowels`\n",
    "    - If it's a digit, then add 1 to `digits`\n",
    "    - otherwise, add 1 to `others`\n",
    "4. Print all three variables (`vowels`, `digits`, and `others`).\n",
    "\n",
    "Hints/reminders:\n",
    "- You can check if a string (including a one-character string) contains only digits if you run the method `str.isdigit` -- for example, `one_character.isdigit()` returns `True` or `False`\n",
    "- You can have several different conditions with `if`/`elif`/`else`"
   ]
  },
  {
   "cell_type": "code",
   "execution_count": 6,
   "metadata": {},
   "outputs": [
    {
     "name": "stdout",
     "output_type": "stream",
     "text": [
      "Not empty!\n"
     ]
    }
   ],
   "source": [
    "# To check if a string is empty, you can compare it with '', the empty string\n",
    "\n",
    "s = 'abcd'\n",
    "\n",
    "if s == '':\n",
    "    print('Empty!')\n",
    "else:\n",
    "    print('Not empty!')"
   ]
  },
  {
   "cell_type": "code",
   "execution_count": 7,
   "metadata": {},
   "outputs": [
    {
     "name": "stdin",
     "output_type": "stream",
     "text": [
      "Enter some text:  hello!! 123\n"
     ]
    },
    {
     "name": "stdout",
     "output_type": "stream",
     "text": [
      "vowels = 2\n",
      "digits = 3\n",
      "others = 6\n"
     ]
    }
   ],
   "source": [
    "# the first time I assign to a variable, I create the variable, as well\n",
    "vowels = 0\n",
    "digits = 0\n",
    "others = 0\n",
    "\n",
    "text = input('Enter some text: ').strip()    # the \"str.strip\" method, which works on strings, returns one without whitespace before/after\n",
    "\n",
    "for one_character in text:\n",
    "    if one_character in 'aeiou':    # if one_character is a vowel...\n",
    "        vowels += 1                 #  ... add 1 to vowels\n",
    "    elif one_character.isdigit():   # if one_character is a digit...\n",
    "        digits += 1                 #  ... add 1 to digits\n",
    "    else:                           # if neither of the above was True...\n",
    "        others += 1                 #  ... add 1 to others\n",
    "\n",
    "print(f'vowels = {vowels}')        \n",
    "print(f'digits = {digits}')        \n",
    "print(f'others = {others}')        "
   ]
  },
  {
   "cell_type": "code",
   "execution_count": 9,
   "metadata": {},
   "outputs": [],
   "source": [
    "# there is a value called None (yes, capital N) in Python which is a value we use to say that\n",
    "# the variable doesn't contain anything useful.  So you can say\n",
    "\n",
    "# None is *NOT* the same as the empty string, '' !\n",
    "# None isn't the same as saying, \"the variable isn't defined\"\n",
    "\n",
    "x = 123\n",
    "\n",
    "if x == None:\n",
    "    print('It is None!')"
   ]
  },
  {
   "cell_type": "markdown",
   "metadata": {},
   "source": [
    "# Why do we need `()` after a method (or function) call?\n",
    "\n",
    "In Python, if we want to execute a method or function, we need to use `()`. This tells Python to call the function/method. If we don't do that, then we get the \"function value,\" which are the instructions for running the function, but not the actual execution of it.\n",
    "\n"
   ]
  },
  {
   "cell_type": "code",
   "execution_count": 10,
   "metadata": {},
   "outputs": [
    {
     "name": "stdout",
     "output_type": "stream",
     "text": [
      "a\n",
      "b\n",
      "c\n",
      "d\n",
      "e\n",
      "f\n",
      "g\n",
      "h\n",
      "i\n",
      "j\n"
     ]
    }
   ],
   "source": [
    "# SD what if I want to loop not over every character, but every other character?\n",
    "\n",
    "s = 'abcdefghij'\n",
    "\n",
    "for one_character in s:\n",
    "    print(one_character)"
   ]
  },
  {
   "cell_type": "code",
   "execution_count": 12,
   "metadata": {},
   "outputs": [
    {
     "data": {
      "text/plain": [
       "'def'"
      ]
     },
     "execution_count": 12,
     "metadata": {},
     "output_type": "execute_result"
    }
   ],
   "source": [
    "# in Python, the way we do this is with a slice\n",
    "# we saw slices of the form [start:end] last week\n",
    "\n",
    "s[3:6]   # from index 3 until (not including) index 6"
   ]
  },
  {
   "cell_type": "code",
   "execution_count": 13,
   "metadata": {},
   "outputs": [
    {
     "data": {
      "text/plain": [
       "'dfh'"
      ]
     },
     "execution_count": 13,
     "metadata": {},
     "output_type": "execute_result"
    }
   ],
   "source": [
    "# we can actually add a THIRD part to the slice, which indicates by what \n",
    "# step size we want to move forward\n",
    "\n",
    "s[3:8:2]  # this means: from index 3, until (not including) index 8, step size 2"
   ]
  },
  {
   "cell_type": "code",
   "execution_count": 14,
   "metadata": {},
   "outputs": [
    {
     "name": "stdout",
     "output_type": "stream",
     "text": [
      "a\n",
      "c\n",
      "e\n",
      "g\n",
      "i\n"
     ]
    }
   ],
   "source": [
    "# how can I iterate over s, but every other character?\n",
    "# the easiest way is to iterate over s[::2], meaning -- from the start, to the end, step size 2\n",
    "\n",
    "s = 'abcdefghij'\n",
    "\n",
    "for one_character in s[::2]:\n",
    "    print(one_character)"
   ]
  },
  {
   "cell_type": "code",
   "execution_count": 16,
   "metadata": {},
   "outputs": [
    {
     "name": "stdin",
     "output_type": "stream",
     "text": [
      "Enter some text:  HELLO\n"
     ]
    },
    {
     "name": "stdout",
     "output_type": "stream",
     "text": [
      "vowels = 2\n",
      "digits = 0\n",
      "others = 3\n"
     ]
    }
   ],
   "source": [
    "# right now, our program doesn't count CAPITAL VOWELS\n",
    "# there are two possible solutions:\n",
    "# (1) modify our vowels string to include capitals, as in 'aeiouAEIOU'\n",
    "# (2) invoke the str.lower() method on text, which returns a new string of all lowercase letters, then iterate over it\n",
    "\n",
    "vowels = 0\n",
    "digits = 0\n",
    "others = 0\n",
    "\n",
    "text = input('Enter some text: ').strip()    # the \"str.strip\" method, which works on strings, returns one without whitespace before/after\n",
    "\n",
    "for one_character in text.lower():  # now, we're iterating over a new string, the lowercase version of text\n",
    "    if one_character in 'aeiou':    # if one_character is a vowel...\n",
    "        vowels += 1                 #  ... add 1 to vowels\n",
    "    elif one_character.isdigit():   # if one_character is a digit...\n",
    "        digits += 1                 #  ... add 1 to digits\n",
    "    else:                           # if neither of the above was True...\n",
    "        others += 1                 #  ... add 1 to others\n",
    "\n",
    "print(f'vowels = {vowels}')        \n",
    "print(f'digits = {digits}')        \n",
    "print(f'others = {others}')        "
   ]
  },
  {
   "cell_type": "markdown",
   "metadata": {},
   "source": [
    "# What about the index?\n",
    "\n",
    "In many (most) other programming languages, `for` loops work very differently: We start with an integer (0), then increment that integer with each iteration, and then use the integer to retrieve the character we want.\n",
    "\n",
    "In Python, we say: Why use the index to get a character, when we can just get the characters directly?\n",
    "\n",
    "But: There are some times when we want to get the index. For example, we want to print the index with each character.\n",
    "\n",
    "How can we do that?\n",
    "\n",
    "One way: We do it manually."
   ]
  },
  {
   "cell_type": "code",
   "execution_count": 17,
   "metadata": {},
   "outputs": [
    {
     "name": "stdout",
     "output_type": "stream",
     "text": [
      "0: a\n",
      "1: b\n",
      "2: c\n",
      "3: d\n"
     ]
    }
   ],
   "source": [
    "s = 'abcd'\n",
    "index = 0\n",
    "\n",
    "for one_character in s:\n",
    "    print(f'{index}: {one_character}')\n",
    "    index += 1     # with each iteration, add 1 to the index"
   ]
  },
  {
   "cell_type": "code",
   "execution_count": 18,
   "metadata": {},
   "outputs": [
    {
     "name": "stdout",
     "output_type": "stream",
     "text": [
      "0: a\n",
      "1: b\n",
      "2: c\n",
      "3: d\n"
     ]
    }
   ],
   "source": [
    "# there is another way, namely the \"enumerate\" function\n",
    "# when we invoke enumerate(s) , each iteration gives us TWO VALUES that\n",
    "# we assign to TWO VARIABLES.  The first value is the index that enumerate\n",
    "# has calculated. The second value is what we had before, the character\n",
    "\n",
    "s = 'abcd'\n",
    "\n",
    "for index, one_character in enumerate(s):\n",
    "    print(f'{index}: {one_character}')"
   ]
  },
  {
   "cell_type": "markdown",
   "metadata": {},
   "source": [
    "# Exercise: Powers of 10\n",
    "\n",
    "You might know that a decimal number, such as 6487, can be written as:\n",
    "\n",
    "    6 * 10**3 + 4 * 10**2 + 8 * 10**1 + 7 * 10**0\n",
    "\n",
    "1. Ask the user to enter a number.\n",
    "2. Go through each digit, one at a time, and print it as I did above. (You don't need to print it all on one line, and you don't need the `+` signs.)\n",
    "3. Assume that the user has given us digits.\n",
    "4. Notice that each power is the same as the length of the string - the current index - 1.\n",
    "\n",
    "Remember:\n",
    "- You can get the length of a string with `len`\n",
    "- You can get the current index with `enumerate`\n"
   ]
  },
  {
   "cell_type": "code",
   "execution_count": 22,
   "metadata": {},
   "outputs": [
    {
     "name": "stdin",
     "output_type": "stream",
     "text": [
      "Enter a number:  6487\n"
     ]
    },
    {
     "name": "stdout",
     "output_type": "stream",
     "text": [
      "6 * 10**3\n",
      "4 * 10**2\n",
      "8 * 10**1\n",
      "7 * 10**0\n"
     ]
    }
   ],
   "source": [
    "text = input('Enter a number: ').strip()\n",
    "\n",
    "for index, one_digit in enumerate(text):\n",
    "    power = len(text) - index - 1\n",
    "    print(f'{one_digit} * 10**{power}')"
   ]
  },
  {
   "cell_type": "markdown",
   "metadata": {},
   "source": [
    "# Next up\n",
    "\n",
    "1. Looping a number of times\n",
    "2. Controlling our loops with `break` and `continue`\n",
    "3. `while` loops\n"
   ]
  },
  {
   "cell_type": "code",
   "execution_count": 23,
   "metadata": {},
   "outputs": [
    {
     "name": "stdout",
     "output_type": "stream",
     "text": [
      "Hooray!\n",
      "Hooray!\n",
      "Hooray!\n"
     ]
    }
   ],
   "source": [
    "# I'm teaching Python, which makes me happy! How can I express this?\n",
    "\n",
    "print('Hooray!')\n",
    "print('Hooray!')\n",
    "print('Hooray!')"
   ]
  },
  {
   "cell_type": "code",
   "execution_count": 24,
   "metadata": {},
   "outputs": [
    {
     "ename": "TypeError",
     "evalue": "'int' object is not iterable",
     "output_type": "error",
     "traceback": [
      "\u001b[0;31m---------------------------------------------------------------------------\u001b[0m",
      "\u001b[0;31mTypeError\u001b[0m                                 Traceback (most recent call last)",
      "Cell \u001b[0;32mIn[24], line 3\u001b[0m\n\u001b[1;32m      1\u001b[0m \u001b[38;5;66;03m# if I want to compress this code, using a loop, how can I?\u001b[39;00m\n\u001b[0;32m----> 3\u001b[0m \u001b[38;5;28;43;01mfor\u001b[39;49;00m\u001b[43m \u001b[49m\u001b[43mcounter\u001b[49m\u001b[43m \u001b[49m\u001b[38;5;129;43;01min\u001b[39;49;00m\u001b[43m \u001b[49m\u001b[38;5;241;43m3\u001b[39;49m\u001b[43m:\u001b[49m\u001b[43m       \u001b[49m\u001b[38;5;66;43;03m# let's iterate 3 times!\u001b[39;49;00m\n\u001b[1;32m      4\u001b[0m \u001b[43m    \u001b[49m\u001b[38;5;28;43mprint\u001b[39;49m\u001b[43m(\u001b[49m\u001b[38;5;124;43m'\u001b[39;49m\u001b[38;5;124;43mHooray!\u001b[39;49m\u001b[38;5;124;43m'\u001b[39;49m\u001b[43m)\u001b[49m   \n",
      "\u001b[0;31mTypeError\u001b[0m: 'int' object is not iterable"
     ]
    }
   ],
   "source": [
    "# if I want to compress this code, using a loop, how can I?\n",
    "\n",
    "for counter in 3:       # let's iterate 3 times!\n",
    "    print('Hooray!')   "
   ]
  },
  {
   "cell_type": "code",
   "execution_count": 25,
   "metadata": {},
   "outputs": [
    {
     "name": "stdout",
     "output_type": "stream",
     "text": [
      "Hooray!\n",
      "Hooray!\n",
      "Hooray!\n"
     ]
    }
   ],
   "source": [
    "# we cannot directly iterate in a for loop over an integer\n",
    "# however, we can iterate over a range\n",
    "# basically, invoke the range() function on the integer we want, and we can iterate\n",
    "\n",
    "for counter in range(3): \n",
    "    print('Hooray!')   "
   ]
  },
  {
   "cell_type": "code",
   "execution_count": 27,
   "metadata": {},
   "outputs": [
    {
     "name": "stdout",
     "output_type": "stream",
     "text": [
      "0 Hooray!\n",
      "1 Hooray!\n",
      "2 Hooray!\n"
     ]
    }
   ],
   "source": [
    "# does counter get a new value with each iteration? \n",
    "\n",
    "# when we iterate over range(n)\n",
    "# we get n iterations\n",
    "# the values are 0 to (not including) n\n",
    "\n",
    "for counter in range(3):   # this will give me values 0, 1, and 2 -- for a total of 3 values, but not including 3 itself\n",
    "    print(f'{counter} Hooray!')   "
   ]
  },
  {
   "cell_type": "code",
   "execution_count": 28,
   "metadata": {},
   "outputs": [
    {
     "name": "stdout",
     "output_type": "stream",
     "text": [
      "hello\n",
      "goodbye\n"
     ]
    }
   ],
   "source": [
    "# normally, print adds a \\n (newline) after everything it prints\n",
    "# however, you can pass the \"end\" keyword argument to print, and have it use something else\n",
    "\n",
    "print('hello')\n",
    "print('goodbye')"
   ]
  },
  {
   "cell_type": "code",
   "execution_count": 30,
   "metadata": {},
   "outputs": [
    {
     "name": "stdout",
     "output_type": "stream",
     "text": [
      "hello goodbye\n"
     ]
    }
   ],
   "source": [
    "print('hello', end=' ')   # this means: display a space (' ') instead of a \\n after printing\n",
    "print('goodbye')"
   ]
  },
  {
   "cell_type": "markdown",
   "metadata": {},
   "source": [
    "# Exercise: Name triangles\n",
    "\n",
    "1. Ask the user to enter their name, and assign to the variable `name`.\n",
    "2. Print the user's name:\n",
    "    - On the first line, print the first letter\n",
    "    - On the 2nd line, print the first 2 letters\n",
    "    - On the 3rd line, print the first 3 letters\n",
    "    - ...\n",
    "    - On the final line, print the full name\n",
    "\n",
    "Hints/reminders/suggestions\n",
    "1. You can get the length of a string with `len`\n",
    "2. You can use a slice to get part of a string -- remember that it's `[start:end]`, where `end` is not included in the returned string\n",
    "3. If a regular Python index goes off of the string, we get an error. But if, in a slice, you go off the end of the string, there is no error.\n",
    "\n",
    "Example:\n",
    "\n",
    "    Enter your name: Reuven\n",
    "    R\n",
    "    Re\n",
    "    Reu\n",
    "    Reuv\n",
    "    Reuve\n",
    "    Reuven\n",
    "\n"
   ]
  },
  {
   "cell_type": "code",
   "execution_count": 31,
   "metadata": {},
   "outputs": [
    {
     "name": "stdin",
     "output_type": "stream",
     "text": [
      "Enter your name:  Reuven\n"
     ]
    },
    {
     "name": "stdout",
     "output_type": "stream",
     "text": [
      "R\n",
      "Re\n",
      "Reu\n",
      "Reuv\n",
      "Reuve\n",
      "Reuven\n"
     ]
    }
   ],
   "source": [
    "name = input('Enter your name: ').strip()\n",
    "\n",
    "# let's say the name is 'Reuven' and I want to print it in a name triangle\n",
    "print(name[:1])  \n",
    "print(name[:2])  \n",
    "print(name[:3])  \n",
    "print(name[:4])  \n",
    "print(name[:5])  \n",
    "print(name[:6])  "
   ]
  },
  {
   "cell_type": "code",
   "execution_count": 36,
   "metadata": {},
   "outputs": [
    {
     "name": "stdin",
     "output_type": "stream",
     "text": [
      "Enter your name:  Ed\n"
     ]
    },
    {
     "name": "stdout",
     "output_type": "stream",
     "text": [
      "E\n",
      "Ed\n"
     ]
    }
   ],
   "source": [
    "name = input('Enter your name: ').strip()\n",
    "\n",
    "for end_index in range(len(name)): \n",
    "    print(name[:end_index+1])  "
   ]
  },
  {
   "cell_type": "code",
   "execution_count": 37,
   "metadata": {},
   "outputs": [
    {
     "name": "stdin",
     "output_type": "stream",
     "text": [
      "What is you name?  Alexander\n"
     ]
    },
    {
     "name": "stdout",
     "output_type": "stream",
     "text": [
      "A\n",
      "Al\n",
      "Ale\n",
      "Alex\n",
      "Alexa\n",
      "Alexan\n",
      "Alexander\n"
     ]
    }
   ],
   "source": [
    "# CA\n",
    "\n",
    "name = input(\"What is you name? \")\n",
    "print(name[0:1])\n",
    "print(name[0:2])\n",
    "print(name[0:3])\n",
    "print(name[0:4])\n",
    "print(name[0:5])\n",
    "print(name[0:6])\n",
    "print(name)"
   ]
  },
  {
   "cell_type": "code",
   "execution_count": 41,
   "metadata": {},
   "outputs": [
    {
     "name": "stdin",
     "output_type": "stream",
     "text": [
      "Enter a name:  Reuven\n"
     ]
    },
    {
     "name": "stdout",
     "output_type": "stream",
     "text": [
      "R\n",
      "Re\n",
      "Reu\n",
      "Reuv\n",
      "Reuve\n",
      "Reuven\n"
     ]
    }
   ],
   "source": [
    "# VO\n",
    "\n",
    "name = input(\"Enter a name: \").strip()\n",
    "long = len(name)\n",
    "\n",
    "for part in range(long):\n",
    "    print(name[:part+1])"
   ]
  },
  {
   "cell_type": "markdown",
   "metadata": {},
   "source": [
    "# Controlling our loop\n",
    "\n",
    "When we're iterating in a `for` loop, we might want to stop things early:\n",
    "\n",
    "- Perhaps we have achieved a goal, and want to stop the loop entirely. We can do that with `break`.\n",
    "- Perhaps we don't need the rest of this iteration, but want to go onto the next one. We can do that with `continue`.\n"
   ]
  },
  {
   "cell_type": "code",
   "execution_count": 42,
   "metadata": {},
   "outputs": [
    {
     "name": "stdout",
     "output_type": "stream",
     "text": [
      "a\n",
      "b\n",
      "d\n",
      "e\n"
     ]
    }
   ],
   "source": [
    "# continue -- typically used if we found a value we want to ignore/skip\n",
    "# often used in an \"if\" statement at the start of the loop body\n",
    "\n",
    "s = 'abcde'\n",
    "\n",
    "look_for = 'c'\n",
    "\n",
    "for one_character in s:\n",
    "    if one_character == look_for:   # if we found look_for, then skip immediately to the next iteration\n",
    "        continue\n",
    "\n",
    "    print(one_character)"
   ]
  },
  {
   "cell_type": "code",
   "execution_count": 43,
   "metadata": {},
   "outputs": [
    {
     "name": "stdout",
     "output_type": "stream",
     "text": [
      "a\n",
      "b\n"
     ]
    }
   ],
   "source": [
    "# break -- typically used if we have achieved our goal completely, and \n",
    "# want to stop the loop RIGHT NOW, with no more iterations.\n",
    "\n",
    "s = 'abcde'\n",
    "\n",
    "look_for = 'c'\n",
    "\n",
    "for one_character in s:\n",
    "    if one_character == look_for: \n",
    "        break\n",
    "\n",
    "    print(one_character)"
   ]
  },
  {
   "cell_type": "markdown",
   "metadata": {},
   "source": [
    "# Exercise: Sum digits\n",
    "\n",
    "1. Define `total` to be 0.\n",
    "2. Ask the user to enter a string containing digits.\n",
    "3. Go through each character in the string:\n",
    "    - If it's a `.`, then stop the loop completely ,and print `total`.\n",
    "    - If it's a digit, then convert to an integer (with `int`) and add to `total`\n",
    "    - If it's anything else, then complain to the user and go onto the next iteration.\n",
    "\n",
    "Example:\n",
    "\n",
    "    Enter digits: 12ab3.4\n",
    "    a is not numeric; ignoring\n",
    "    b is not numeric; ignoring\n",
    "    total is 6"
   ]
  },
  {
   "cell_type": "code",
   "execution_count": 45,
   "metadata": {},
   "outputs": [
    {
     "name": "stdin",
     "output_type": "stream",
     "text": [
      "Enter digits:  12ab3.4\n"
     ]
    },
    {
     "name": "stdout",
     "output_type": "stream",
     "text": [
      "a is not numeric; ignoring\n",
      "b is not numeric; ignoring\n",
      "Total is 6\n"
     ]
    }
   ],
   "source": [
    "total = 0\n",
    "\n",
    "text = input('Enter digits: ').strip()\n",
    "\n",
    "for one_character in text:\n",
    "    if one_character == '.':\n",
    "        break\n",
    "\n",
    "    if not one_character.isdigit():\n",
    "        print(f'{one_character} is not numeric; ignoring')\n",
    "        continue\n",
    "\n",
    "    total += int(one_character)\n",
    "\n",
    "print(f'Total is {total}')    "
   ]
  },
  {
   "cell_type": "code",
   "execution_count": 48,
   "metadata": {},
   "outputs": [
    {
     "name": "stdin",
     "output_type": "stream",
     "text": [
      "Enter your name: Reuven\n"
     ]
    },
    {
     "name": "stdout",
     "output_type": "stream",
     "text": [
      "R\n",
      "Re\n",
      "Reu\n",
      "Reuv\n",
      "Reuve\n",
      "\n"
     ]
    }
   ],
   "source": [
    "# MM -- name triangle\n",
    "\n",
    "name = input('Enter your name:').strip()\n",
    "length = len(name)\n",
    "\n",
    "for index, one_character in enumerate(name):\n",
    "    limit =  index - length \n",
    "    print(name[0:limit])"
   ]
  },
  {
   "cell_type": "code",
   "execution_count": 49,
   "metadata": {},
   "outputs": [
    {
     "data": {
      "text/plain": [
       "'e'"
      ]
     },
     "execution_count": 49,
     "metadata": {},
     "output_type": "execute_result"
    }
   ],
   "source": [
    "s = 'abcde'\n",
    "\n",
    "s[-1]"
   ]
  },
  {
   "cell_type": "code",
   "execution_count": 50,
   "metadata": {},
   "outputs": [
    {
     "data": {
      "text/plain": [
       "'abcd'"
      ]
     },
     "execution_count": 50,
     "metadata": {},
     "output_type": "execute_result"
    }
   ],
   "source": [
    "s[:-1]   # up to and not including -1"
   ]
  },
  {
   "cell_type": "code",
   "execution_count": 51,
   "metadata": {},
   "outputs": [
    {
     "data": {
      "text/plain": [
       "''"
      ]
     },
     "execution_count": 51,
     "metadata": {},
     "output_type": "execute_result"
    }
   ],
   "source": [
    "s[:0]"
   ]
  },
  {
   "cell_type": "markdown",
   "metadata": {},
   "source": [
    "# `while` loops\n",
    "\n",
    "In a `for` loop, we iterate over a known sequence of values -- the characters in a string, or the numbers in a `range`. But sometimes, we don't know how many times we'll need to iterate. It depends on other factors.\n",
    "\n",
    "In such cases, we can use a `while` loop. `while` works just like `if`: It has a condition to its right, and if the condition is `True`, then the body executes.\n",
    "\n",
    "The difference is: When the loop body is done executing, we go back to the `while` and check the condition *again*. So long as the condition is `True`, we will execute the loop body."
   ]
  },
  {
   "cell_type": "code",
   "execution_count": 53,
   "metadata": {},
   "outputs": [
    {
     "name": "stdout",
     "output_type": "stream",
     "text": [
      "Start\n",
      "5\n",
      "4\n",
      "3\n",
      "2\n",
      "1\n",
      "End\n"
     ]
    }
   ],
   "source": [
    "x = 5\n",
    "\n",
    "print('Start')\n",
    "while x > 0:\n",
    "    print(x) \n",
    "    x -= 1   # same as x = x - 1, meaning: decrement x\n",
    "print('End')    "
   ]
  },
  {
   "cell_type": "code",
   "execution_count": 54,
   "metadata": {},
   "outputs": [
    {
     "name": "stdin",
     "output_type": "stream",
     "text": [
      "Enter your name:  Reuven\n"
     ]
    },
    {
     "name": "stdout",
     "output_type": "stream",
     "text": [
      "Hello, Reuven!\n"
     ]
    },
    {
     "name": "stdin",
     "output_type": "stream",
     "text": [
      "Enter your name:  asdfasfasd\n"
     ]
    },
    {
     "name": "stdout",
     "output_type": "stream",
     "text": [
      "Hello, asdfasfasd!\n"
     ]
    },
    {
     "name": "stdin",
     "output_type": "stream",
     "text": [
      "Enter your name:  asdfsafafsafasfas\n"
     ]
    },
    {
     "name": "stdout",
     "output_type": "stream",
     "text": [
      "Hello, asdfsafafsafasfas!\n"
     ]
    },
    {
     "name": "stdin",
     "output_type": "stream",
     "text": [
      "Enter your name:  \n"
     ]
    }
   ],
   "source": [
    "while True:    # this is an infinite loop, right? Yes, unless inside of the loop body we have an if/break\n",
    "    name = input('Enter your name: ').strip()\n",
    "\n",
    "    if name == '':\n",
    "        break\n",
    "\n",
    "    print(f'Hello, {name}!')"
   ]
  },
  {
   "cell_type": "markdown",
   "metadata": {},
   "source": [
    "# Exercise: Sum to 100\n",
    "\n",
    "1. Define `total` to be 0.\n",
    "2. Ask the user to enter a string.\n",
    "3. If the string is numeric, then convert to an integer, and add to `total`.\n",
    "4. If the string is not numeric, then scold the user.\n",
    "5. Keep asking until `total` is >= 100, at which point you can stop and print `total`.\n",
    "6. If you want to print `total` with each iteration, that's fine.\n",
    "\n",
    "Example:\n",
    "\n",
    "    Enter a number: 20\n",
    "    total is 20\n",
    "    Enter a number: 50\n",
    "    total is 70\n",
    "    Enter a number: hello\n",
    "    hello is not numeric\n",
    "    Enter a number: 100\n",
    "    total is 170\n",
    "    Final total is 170"
   ]
  },
  {
   "cell_type": "code",
   "execution_count": null,
   "metadata": {},
   "outputs": [],
   "source": []
  },
  {
   "cell_type": "code",
   "execution_count": 55,
   "metadata": {},
   "outputs": [
    {
     "name": "stdin",
     "output_type": "stream",
     "text": [
      "Enter a number:  20\n"
     ]
    },
    {
     "name": "stdout",
     "output_type": "stream",
     "text": [
      "Total is 20\n"
     ]
    },
    {
     "name": "stdin",
     "output_type": "stream",
     "text": [
      "Enter a number:  30\n"
     ]
    },
    {
     "name": "stdout",
     "output_type": "stream",
     "text": [
      "Total is 50\n"
     ]
    },
    {
     "name": "stdin",
     "output_type": "stream",
     "text": [
      "Enter a number:  hello\n"
     ]
    },
    {
     "name": "stdout",
     "output_type": "stream",
     "text": [
      "hello is not numeric; try again\n"
     ]
    },
    {
     "name": "stdin",
     "output_type": "stream",
     "text": [
      "Enter a number:  900\n"
     ]
    },
    {
     "name": "stdout",
     "output_type": "stream",
     "text": [
      "Total is 950\n",
      "Final total is 950\n"
     ]
    }
   ],
   "source": [
    "total = 0\n",
    "\n",
    "while total < 100:\n",
    "    text = input('Enter a number: ').strip()\n",
    "\n",
    "    if text.isdigit():      # can we turn this into an integer?\n",
    "        total += int(text)  # if so, turn it into an int, and add to total\n",
    "        print(f'Total is {total}')\n",
    "    else:\n",
    "        print(f'{text} is not numeric; try again')\n",
    "\n",
    "print(f'Final total is {total}')"
   ]
  },
  {
   "cell_type": "markdown",
   "metadata": {},
   "source": [
    "# Three nearly identical methods\n",
    "\n",
    "- `str.isdigit`\n",
    "- `str.isnumeric`\n",
    "- `str.isdecimal`\n",
    "\n",
    "For most people, most of the time, these are going to give you identical results.\n",
    "\n",
    "Read more here: https://lerner.co.il/2019/02/17/pythons-str-isdigit-vs-str-isnumeric/"
   ]
  },
  {
   "cell_type": "code",
   "execution_count": 56,
   "metadata": {},
   "outputs": [
    {
     "name": "stdin",
     "output_type": "stream",
     "text": [
      "Enter something:  20\n"
     ]
    },
    {
     "name": "stdout",
     "output_type": "stream",
     "text": [
      "Total is 20\n"
     ]
    },
    {
     "name": "stdin",
     "output_type": "stream",
     "text": [
      "Enter something:  40\n"
     ]
    },
    {
     "name": "stdout",
     "output_type": "stream",
     "text": [
      "Total is 60\n"
     ]
    },
    {
     "name": "stdin",
     "output_type": "stream",
     "text": [
      "Enter something:  asdfas\n"
     ]
    },
    {
     "name": "stdout",
     "output_type": "stream",
     "text": [
      "asdfas is not numeric; try again\n"
     ]
    },
    {
     "name": "stdin",
     "output_type": "stream",
     "text": [
      "Enter something:  70\n"
     ]
    },
    {
     "name": "stdout",
     "output_type": "stream",
     "text": [
      "Total is 130\n",
      "Final total is 130\n"
     ]
    }
   ],
   "source": [
    "# KH\n",
    "\n",
    "total = 0\n",
    "\n",
    "while total < 100:\n",
    "    text = input ('Enter something: ').strip()\n",
    "\n",
    "    if text.isdigit():\n",
    "        total += int(text)\n",
    "        print (f'Total is {total}')\n",
    "    else:\n",
    "        print(f'{text} is not numeric; try again')\n",
    "\n",
    "print(f'Final total is {total}')"
   ]
  },
  {
   "cell_type": "markdown",
   "metadata": {},
   "source": [
    "# Next up\n",
    "\n",
    "1. Lists!"
   ]
  },
  {
   "cell_type": "markdown",
   "metadata": {},
   "source": [
    "# Lists\n",
    "\n",
    "So far, the data structures we've used have been simple -- numbers and strings. Strings do contain other things -- smaller strings! -- but that's about it.\n",
    "\n",
    "Lists are our first real \"container\" type in Python, which can contain any number of any other values of any types. Lists are what we normally use if we have \"a bunch of values\" of the same type.\n",
    "\n",
    "If you have experience in another language, you might recognize lists as similar to (but not the same as) what other languages would call \"arrays.\"\n",
    "\n",
    "- We define a list with `[]`\n",
    "- The elements of the list are separated by commas\n",
    "- The elements can be any combination of any types in Python, but it's traditional for them all to be of the same type\n"
   ]
  },
  {
   "cell_type": "code",
   "execution_count": 57,
   "metadata": {},
   "outputs": [
    {
     "data": {
      "text/plain": [
       "list"
      ]
     },
     "execution_count": 57,
     "metadata": {},
     "output_type": "execute_result"
    }
   ],
   "source": [
    "mylist = [10, 20, 30, 40, 50]  # this is a list of integers\n",
    "\n",
    "type(mylist)   # what kind of value is mylist (the variable) referring to?"
   ]
  },
  {
   "cell_type": "code",
   "execution_count": 58,
   "metadata": {},
   "outputs": [
    {
     "data": {
      "text/plain": [
       "5"
      ]
     },
     "execution_count": 58,
     "metadata": {},
     "output_type": "execute_result"
    }
   ],
   "source": [
    "# many, *many* of the things we used on strings will also work on lists\n",
    "\n",
    "len(mylist)"
   ]
  },
  {
   "cell_type": "code",
   "execution_count": 59,
   "metadata": {},
   "outputs": [
    {
     "data": {
      "text/plain": [
       "10"
      ]
     },
     "execution_count": 59,
     "metadata": {},
     "output_type": "execute_result"
    }
   ],
   "source": [
    "# what is the first element of mylist?\n",
    "\n",
    "mylist[0]"
   ]
  },
  {
   "cell_type": "code",
   "execution_count": 60,
   "metadata": {},
   "outputs": [
    {
     "data": {
      "text/plain": [
       "20"
      ]
     },
     "execution_count": 60,
     "metadata": {},
     "output_type": "execute_result"
    }
   ],
   "source": [
    "# what is the second element?\n",
    "mylist[1]"
   ]
  },
  {
   "cell_type": "code",
   "execution_count": 61,
   "metadata": {},
   "outputs": [
    {
     "data": {
      "text/plain": [
       "50"
      ]
     },
     "execution_count": 61,
     "metadata": {},
     "output_type": "execute_result"
    }
   ],
   "source": [
    "# what is the final element?\n",
    "mylist[-1]"
   ]
  },
  {
   "cell_type": "code",
   "execution_count": 62,
   "metadata": {},
   "outputs": [
    {
     "data": {
      "text/plain": [
       "[30, 40]"
      ]
     },
     "execution_count": 62,
     "metadata": {},
     "output_type": "execute_result"
    }
   ],
   "source": [
    "# can I get a slice?\n",
    "mylist[2:4]"
   ]
  },
  {
   "cell_type": "code",
   "execution_count": 63,
   "metadata": {},
   "outputs": [
    {
     "data": {
      "text/plain": [
       "True"
      ]
     },
     "execution_count": 63,
     "metadata": {},
     "output_type": "execute_result"
    }
   ],
   "source": [
    "# can I search in a list? Use \"in\"\n",
    "\n",
    "40 in mylist"
   ]
  },
  {
   "cell_type": "code",
   "execution_count": 64,
   "metadata": {},
   "outputs": [
    {
     "data": {
      "text/plain": [
       "False"
      ]
     },
     "execution_count": 64,
     "metadata": {},
     "output_type": "execute_result"
    }
   ],
   "source": [
    "100 in mylist"
   ]
  },
  {
   "cell_type": "code",
   "execution_count": 65,
   "metadata": {},
   "outputs": [
    {
     "name": "stdout",
     "output_type": "stream",
     "text": [
      "10\n",
      "20\n",
      "30\n",
      "40\n",
      "50\n"
     ]
    }
   ],
   "source": [
    "# can I iterate over a list with a \"for\" loop? Yes!\n",
    "\n",
    "for one_item in mylist:\n",
    "    print(one_item)"
   ]
  },
  {
   "cell_type": "code",
   "execution_count": 66,
   "metadata": {},
   "outputs": [
    {
     "name": "stdout",
     "output_type": "stream",
     "text": [
      "30\n",
      "10\n",
      "20\n",
      "30\n",
      "40\n",
      "50\n"
     ]
    }
   ],
   "source": [
    "mylist = [10, 20, 30, 40, 50]\n",
    "print(mylist[2])\n",
    "\n",
    "for one_item in mylist:\n",
    "    print(one_item)"
   ]
  },
  {
   "cell_type": "markdown",
   "metadata": {},
   "source": [
    "# Lists are *mutable*!\n",
    "\n",
    "Once we have created a string, we cannot change it. We cannot assign to `s[2]`; Python will give us an error.\n",
    "\n",
    "But lists are mutable! That is, we can change them:\n",
    "\n",
    "- We can add new elements to a list, making it longer (typically at the end)\n",
    "- We can modify existing elements of a list\n",
    "- We can remove existing elements of a list"
   ]
  },
  {
   "cell_type": "code",
   "execution_count": 67,
   "metadata": {},
   "outputs": [
    {
     "data": {
      "text/plain": [
       "[10, 20, 30, 40, 50, 60]"
      ]
     },
     "execution_count": 67,
     "metadata": {},
     "output_type": "execute_result"
    }
   ],
   "source": [
    "mylist = [10, 20, 30, 40, 50]\n",
    "\n",
    "mylist.append(60)   # this adds the value 60 to the end of the list\n",
    "mylist"
   ]
  },
  {
   "cell_type": "code",
   "execution_count": 68,
   "metadata": {},
   "outputs": [
    {
     "data": {
      "text/plain": [
       "[10, 20, 30, 40, 50, 60, 'hello']"
      ]
     },
     "execution_count": 68,
     "metadata": {},
     "output_type": "execute_result"
    }
   ],
   "source": [
    "# whatever you append will be appended!\n",
    "\n",
    "mylist.append('hello')\n",
    "mylist"
   ]
  },
  {
   "cell_type": "code",
   "execution_count": 69,
   "metadata": {},
   "outputs": [
    {
     "data": {
      "text/plain": [
       "[10, 20, 9876, 40, 50, 60, 'hello']"
      ]
     },
     "execution_count": 69,
     "metadata": {},
     "output_type": "execute_result"
    }
   ],
   "source": [
    "# modifying existing elements\n",
    "\n",
    "mylist[2] = 9876\n",
    "mylist"
   ]
  },
  {
   "cell_type": "code",
   "execution_count": 70,
   "metadata": {},
   "outputs": [
    {
     "data": {
      "text/plain": [
       "'hello'"
      ]
     },
     "execution_count": 70,
     "metadata": {},
     "output_type": "execute_result"
    }
   ],
   "source": [
    "# we can remove (and return) the final value with list.pop\n",
    "\n",
    "mylist.pop() "
   ]
  },
  {
   "cell_type": "code",
   "execution_count": 71,
   "metadata": {},
   "outputs": [
    {
     "data": {
      "text/plain": [
       "[10, 20, 9876, 40, 50, 60]"
      ]
     },
     "execution_count": 71,
     "metadata": {},
     "output_type": "execute_result"
    }
   ],
   "source": [
    "mylist"
   ]
  },
  {
   "cell_type": "code",
   "execution_count": 72,
   "metadata": {},
   "outputs": [
    {
     "data": {
      "text/plain": [
       "60"
      ]
     },
     "execution_count": 72,
     "metadata": {},
     "output_type": "execute_result"
    }
   ],
   "source": [
    "mylist.pop()"
   ]
  },
  {
   "cell_type": "code",
   "execution_count": 73,
   "metadata": {},
   "outputs": [
    {
     "data": {
      "text/plain": [
       "[10, 20, 9876, 40, 50]"
      ]
     },
     "execution_count": 73,
     "metadata": {},
     "output_type": "execute_result"
    }
   ],
   "source": [
    "mylist"
   ]
  },
  {
   "cell_type": "code",
   "execution_count": 74,
   "metadata": {},
   "outputs": [],
   "source": [
    "# one of the most common things to do with a list is start with an empty one ([]) and \n",
    "# then append append append to the end as we find things.\n",
    "\n"
   ]
  },
  {
   "cell_type": "markdown",
   "metadata": {},
   "source": [
    "# Exercise: Vowels, digits, and others -- list edition\n",
    "\n",
    "1. Define three empty lists, `vowels`, `digits`, and `others`\n",
    "2. Ask the user to enter a string.\n",
    "3. Go through the string, one element at a time:\n",
    "    - If it's a vowel, append to `vowels`\n",
    "    - If it's a digit, append to `digits`\n",
    "    - Otherwise, append to `others`\n",
    "4. Print all three lists\n"
   ]
  },
  {
   "cell_type": "code",
   "execution_count": 75,
   "metadata": {},
   "outputs": [
    {
     "name": "stdin",
     "output_type": "stream",
     "text": [
      "Enter text:  hello?? 123\n"
     ]
    },
    {
     "name": "stdout",
     "output_type": "stream",
     "text": [
      "vowels = ['e', 'o']\n",
      "digits = ['1', '2', '3']\n",
      "others = ['h', 'l', 'l', '?', '?', ' ']\n"
     ]
    }
   ],
   "source": [
    "vowels = []\n",
    "digits = []\n",
    "others = []\n",
    "\n",
    "text = input('Enter text: ').strip()\n",
    "\n",
    "for one_character in text:\n",
    "    if one_character.isdigit():       # if one_character is a digit...\n",
    "        digits.append(one_character)  #  .... append to digits\n",
    "    elif one_character in 'aeiou':    # if one_character is a vowel...\n",
    "        vowels.append(one_character)  # .... append to vowels\n",
    "    else:\n",
    "        others.append(one_character)\n",
    "\n",
    "print(f'vowels = {vowels}')        \n",
    "print(f'digits = {digits}')        \n",
    "print(f'others = {others}')        \n"
   ]
  },
  {
   "cell_type": "code",
   "execution_count": 77,
   "metadata": {},
   "outputs": [
    {
     "name": "stdin",
     "output_type": "stream",
     "text": [
      "Tell something:  hello?? 123\n"
     ]
    },
    {
     "name": "stdout",
     "output_type": "stream",
     "text": [
      "['e', 'o']\n",
      "['1', '2', '3']\n",
      "['h', 'l', 'l', '?', '?', ' ']\n"
     ]
    }
   ],
   "source": [
    "# CA\n",
    "\n",
    "vowels = []\n",
    "digits = []\n",
    "others = []\n",
    "names = input(\"Tell something: \" )\n",
    "for name in names.lower():\n",
    "    if name in \"aeiou\":\n",
    "        vowels.append(name)\n",
    "    elif name.isdigit():\n",
    "        digits.append(name)\n",
    "    else:\n",
    "        others.append(name)\n",
    "print(vowels)\n",
    "print(digits)\n",
    "print(others)"
   ]
  },
  {
   "cell_type": "code",
   "execution_count": 78,
   "metadata": {},
   "outputs": [
    {
     "name": "stdin",
     "output_type": "stream",
     "text": [
      "Enter a string:  hello?? 123\n"
     ]
    },
    {
     "name": "stdout",
     "output_type": "stream",
     "text": [
      "['e', 'o']\n",
      "['1', '2', '3']\n",
      "['h', 'l', 'l', '?', '?', ' ']\n"
     ]
    }
   ],
   "source": [
    "# VO\n",
    "\n",
    "vowels = []\n",
    "digits = []\n",
    "others = []\n",
    "\n",
    "s = input(\"Enter a string: \").strip()\n",
    "\n",
    "for ch in s:\n",
    "    if ch in 'aeiou':\n",
    "        vowels.append(ch)\n",
    "    elif ch.isdigit():\n",
    "        digits.append(ch)\n",
    "    else:\n",
    "        others.append(ch)\n",
    "print(vowels)\n",
    "print(digits)\n",
    "print(others)"
   ]
  },
  {
   "cell_type": "code",
   "execution_count": 79,
   "metadata": {},
   "outputs": [
    {
     "name": "stdout",
     "output_type": "stream",
     "text": [
      "100\n"
     ]
    }
   ],
   "source": [
    "# integers are immutable\n",
    "\n",
    "x = 100   # here, we say: x refers to 100\n",
    "y = x     # here, we say: y refers to whatever x refers to\n",
    "\n",
    "x = 200   # I assign to x.... but that doesn't affect y!\n",
    "print(y)  # 100"
   ]
  },
  {
   "cell_type": "code",
   "execution_count": 80,
   "metadata": {},
   "outputs": [
    {
     "name": "stdout",
     "output_type": "stream",
     "text": [
      "[999, 888, 30]\n",
      "[999, 888, 30]\n"
     ]
    }
   ],
   "source": [
    "x = [10, 20, 30]\n",
    "y = x\n",
    "\n",
    "# now, both x and y refer to the same list\n",
    "x[0] = 999\n",
    "y[1] = 888\n",
    "\n",
    "print(x)\n",
    "print(y)\n"
   ]
  },
  {
   "cell_type": "markdown",
   "metadata": {},
   "source": [
    "# Assignment and mutable data\n",
    "\n",
    "Think of a variable as a name referring to a value. Or even a pronoun referring to a noun. You can have one variable refer to a value, or you can have many variables all rererring to the same value.\n",
    "\n",
    "If the value is an integer (or even a string), then the value cannot change. It's safe for all of those variables to refer to the same value.\n",
    "\n",
    "But if the value is a list (which is mutable), then if any of the variables modifies the list (i.e., appends to it, modifies a value, or removes a value), then that'll be reflected in all of the variables. "
   ]
  },
  {
   "cell_type": "code",
   "execution_count": 81,
   "metadata": {},
   "outputs": [],
   "source": [
    "mylist = [[10, 20, 30], [40, 50], [60, 70, 80, 90]]"
   ]
  },
  {
   "cell_type": "markdown",
   "metadata": {},
   "source": [
    "# Converting values\n",
    "\n",
    "We've seen that if we have a value, and we want to convert it to another type, we can invoke the destination type as a function, and get a new value back:\n",
    "\n",
    "- `int(s)` returns a new integer based on the string `s`\n",
    "- `float(s)` returns a new float based on the string `s`\n",
    "- `str(n)` returns a new string based on the integer `n`\n",
    "- `str(f)` returns a new string based on the float `f`\n",
    "\n",
    "What if I try to convert a string into a list? Can I just run `list` on the string?"
   ]
  },
  {
   "cell_type": "code",
   "execution_count": 82,
   "metadata": {},
   "outputs": [
    {
     "data": {
      "text/plain": [
       "['a', 'b', 'c', 'd', ' ', 'e', 'f', ' ', 'g', 'h', 'i']"
      ]
     },
     "execution_count": 82,
     "metadata": {},
     "output_type": "execute_result"
    }
   ],
   "source": [
    "s = 'abcd ef ghi'\n",
    "\n",
    "list(s)  # will this give me a list?"
   ]
  },
  {
   "cell_type": "code",
   "execution_count": 83,
   "metadata": {},
   "outputs": [
    {
     "data": {
      "text/plain": [
       "['abcd', 'ef', 'ghi']"
      ]
     },
     "execution_count": 83,
     "metadata": {},
     "output_type": "execute_result"
    }
   ],
   "source": [
    "# is this the list I want? Maybe... I might want to break it up on spaces\n",
    "# I can do that using the str.split method\n",
    "\n",
    "s.split(' ')   # we invoke str.split on a string, and pass an argument -- what should be used as the delimiter"
   ]
  },
  {
   "cell_type": "code",
   "execution_count": 84,
   "metadata": {},
   "outputs": [
    {
     "data": {
      "text/plain": [
       "['abcd e', ' ghi']"
      ]
     },
     "execution_count": 84,
     "metadata": {},
     "output_type": "execute_result"
    }
   ],
   "source": [
    "# can I use other characters? Sure!\n",
    "\n",
    "s.split('f')   # we always get back a list of strings from str.split"
   ]
  },
  {
   "cell_type": "code",
   "execution_count": 86,
   "metadata": {},
   "outputs": [
    {
     "data": {
      "text/plain": [
       "['abcd ef ghi']"
      ]
     },
     "execution_count": 86,
     "metadata": {},
     "output_type": "execute_result"
    }
   ],
   "source": [
    "s.split('!')  # get a one-element list if we split on something that isn't there"
   ]
  },
  {
   "cell_type": "code",
   "execution_count": 87,
   "metadata": {},
   "outputs": [
    {
     "data": {
      "text/plain": [
       "['this',\n",
       " '',\n",
       " '',\n",
       " '',\n",
       " '',\n",
       " 'is',\n",
       " 'a',\n",
       " '',\n",
       " 'sample',\n",
       " 'sentence',\n",
       " '',\n",
       " '',\n",
       " '',\n",
       " '',\n",
       " '',\n",
       " 'for',\n",
       " 'my',\n",
       " '',\n",
       " '',\n",
       " 'course']"
      ]
     },
     "execution_count": 87,
     "metadata": {},
     "output_type": "execute_result"
    }
   ],
   "source": [
    "# what if I have this:\n",
    "\n",
    "s = 'this     is a  sample sentence      for my   course'\n",
    "\n",
    "s.split(' ')  # wherever you see a space, cut -- and if there are multiple spaces, cut multiple times"
   ]
  },
  {
   "cell_type": "code",
   "execution_count": 88,
   "metadata": {},
   "outputs": [
    {
     "data": {
      "text/plain": [
       "['this', 'is', 'a', 'sample', 'sentence', 'for', 'my', 'course']"
      ]
     },
     "execution_count": 88,
     "metadata": {},
     "output_type": "execute_result"
    }
   ],
   "source": [
    "# Python provides us with an option to avoid this situation\n",
    "# if we don't pass any argument at all to str.split, it uses any combination of any whitespace\n",
    "# in any quantity as a single delimiter\n",
    "\n",
    "s.split()   "
   ]
  },
  {
   "cell_type": "code",
   "execution_count": 90,
   "metadata": {},
   "outputs": [
    {
     "data": {
      "text/plain": [
       "'a     b     c'"
      ]
     },
     "execution_count": 90,
     "metadata": {},
     "output_type": "execute_result"
    }
   ],
   "source": [
    "# (1) strip removes whitespace from the outside, doesn't touch the inside\n",
    "# (2) strip returns a new string, but split returns a list of strings\n",
    "\n",
    "s = '     a     b     c     '\n",
    "s.strip()"
   ]
  },
  {
   "cell_type": "markdown",
   "metadata": {},
   "source": [
    "# Exercise: Pig Latin sentence\n",
    "\n",
    "Last time, we wrote a program that takes an English word as input and prints the translation into Pig Latin. This time, I want you to take a *sentence* (all lowercase, no punctuation) of words in English, and print the translation of the sentence into Pig Latin. It's totaly fine if your translation prints each word on a separate line.\n",
    "\n",
    "Example: \n",
    "\n",
    "    Enter a sentence: hello out there\n",
    "    ellohay outway heretay\n",
    "\n",
    "Remember that our program last time looked like this:"
   ]
  },
  {
   "cell_type": "code",
   "execution_count": 91,
   "metadata": {},
   "outputs": [
    {
     "name": "stdin",
     "output_type": "stream",
     "text": [
      "Enter a word:  hello\n"
     ]
    },
    {
     "name": "stdout",
     "output_type": "stream",
     "text": [
      "ellohay\n"
     ]
    }
   ],
   "source": [
    "word = input('Enter a word: ').strip()\n",
    "\n",
    "if word[0] in 'aeiou':\n",
    "    print(word + 'way')   # add 'way' if the first letter is a vowel\n",
    "else:\n",
    "    print(word[1:] + word[0] + 'ay')  # first letter goes to the end, then 'ay'"
   ]
  },
  {
   "cell_type": "code",
   "execution_count": 93,
   "metadata": {},
   "outputs": [
    {
     "name": "stdin",
     "output_type": "stream",
     "text": [
      "Enter a sentence:  hello out there\n"
     ]
    },
    {
     "name": "stdout",
     "output_type": "stream",
     "text": [
      "ellohay\n",
      "outway\n",
      "heretay\n"
     ]
    }
   ],
   "source": [
    "# now let's make this translate a sentence!\n",
    "\n",
    "sentence = input('Enter a sentence: ').strip()\n",
    "\n",
    "for word in sentence.split():\n",
    "    if word[0] in 'aeiou':\n",
    "        print(word + 'way')   # add 'way' if the first letter is a vowel\n",
    "    else:\n",
    "        print(word[1:] + word[0] + 'ay')  # first letter goes to the end, then 'ay'"
   ]
  },
  {
   "cell_type": "markdown",
   "metadata": {},
   "source": [
    "# Next up\n",
    "\n",
    "1. `str.join` -- the opposite of `str.split`\n",
    "2. Tuples\n",
    "3. Tuple unpacking"
   ]
  },
  {
   "cell_type": "markdown",
   "metadata": {},
   "source": [
    "# `str.join`\n",
    "\n",
    "We've now seen that we can use `str.split` to get a list of strings from a single string. We indicate what the delimiter is, and we get back a new list of strings.\n",
    "\n",
    "`str.join` is basically the reverse of `str.split`:\n",
    "\n",
    "- We need a list of strings\n",
    "- We need a delimiter to go between them -- what I call the \"glue\"\n",
    "\n",
    "In the case of `str.join`, because it's a string method (and not a list method), we actually invoke the method on the \"glue\" string, passing the list of strings as an argument to it."
   ]
  },
  {
   "cell_type": "code",
   "execution_count": 94,
   "metadata": {},
   "outputs": [
    {
     "data": {
      "text/plain": [
       "'abcd*ef*ghij'"
      ]
     },
     "execution_count": 94,
     "metadata": {},
     "output_type": "execute_result"
    }
   ],
   "source": [
    "mylist = ['abcd', 'ef', 'ghij']\n",
    "glue = '*'\n",
    "\n",
    "glue.join(mylist)"
   ]
  },
  {
   "cell_type": "code",
   "execution_count": 95,
   "metadata": {},
   "outputs": [
    {
     "data": {
      "text/plain": [
       "'abcd*ef*ghij'"
      ]
     },
     "execution_count": 95,
     "metadata": {},
     "output_type": "execute_result"
    }
   ],
   "source": [
    "'*'.join(mylist)"
   ]
  },
  {
   "cell_type": "code",
   "execution_count": 96,
   "metadata": {},
   "outputs": [
    {
     "data": {
      "text/plain": [
       "'abcd ef ghij'"
      ]
     },
     "execution_count": 96,
     "metadata": {},
     "output_type": "execute_result"
    }
   ],
   "source": [
    "' '.join(mylist)"
   ]
  },
  {
   "cell_type": "code",
   "execution_count": 97,
   "metadata": {},
   "outputs": [
    {
     "data": {
      "text/plain": [
       "'abcd\\nef\\nghij'"
      ]
     },
     "execution_count": 97,
     "metadata": {},
     "output_type": "execute_result"
    }
   ],
   "source": [
    "'\\n'.join(mylist)"
   ]
  },
  {
   "cell_type": "code",
   "execution_count": 98,
   "metadata": {},
   "outputs": [
    {
     "data": {
      "text/plain": [
       "'abcd***ef***ghij'"
      ]
     },
     "execution_count": 98,
     "metadata": {},
     "output_type": "execute_result"
    }
   ],
   "source": [
    "'***'.join(mylist)"
   ]
  },
  {
   "cell_type": "code",
   "execution_count": 100,
   "metadata": {},
   "outputs": [
    {
     "name": "stdin",
     "output_type": "stream",
     "text": [
      "Enter a sentence:  hello out there\n"
     ]
    },
    {
     "name": "stdout",
     "output_type": "stream",
     "text": [
      "ellohay outway heretay\n"
     ]
    }
   ],
   "source": [
    "# if we are accumulating information in a list, then we can use str.join at the end of the program/loop to \n",
    "# put them together\n",
    "\n",
    "# instead of printing each translated word on a line by itself,\n",
    "# we'll create an \"output\" list, starting empty. We'll append each\n",
    "# translation to that output list.\n",
    "\n",
    "output = []\n",
    "sentence = input('Enter a sentence: ').strip()\n",
    "\n",
    "for word in sentence.split():\n",
    "    if word[0] in 'aeiou':\n",
    "        output.append(word + 'way')   # add 'way' if the first letter is a vowel\n",
    "    else:\n",
    "        output.append(word[1:] + word[0] + 'ay')  # first letter goes to the end, then 'ay'\n",
    "\n",
    "print(' '.join(output))"
   ]
  },
  {
   "cell_type": "markdown",
   "metadata": {},
   "source": [
    "# Exercise: Short and long words\n",
    "\n",
    "1. Define two empty lists, `short` and `long`.\n",
    "2. Ask the user to enter a sentence.\n",
    "3. Go through each word in the sentence\n",
    "    - If it contains < 4 letters, append the word to `short`.\n",
    "    - Otherwise, append the word to `long`.\n",
    "4. Print each of `short` and `long` as one string, with the word separated by spaces. We'll see all of the short words printed as if they were a sentence, and all of the long words printed as if they were a sentence."
   ]
  },
  {
   "cell_type": "code",
   "execution_count": 102,
   "metadata": {},
   "outputs": [
    {
     "name": "stdin",
     "output_type": "stream",
     "text": [
      "Enter a sentence:  this is a very boring example of my program\n"
     ]
    },
    {
     "name": "stdout",
     "output_type": "stream",
     "text": [
      "is a of my\n",
      "this very boring example program\n"
     ]
    }
   ],
   "source": [
    "short = []\n",
    "long = []\n",
    "\n",
    "sentence = input('Enter a sentence: ').strip()\n",
    "\n",
    "for one_word in sentence.split():\n",
    "    if len(one_word) < 4:\n",
    "        short.append(one_word)\n",
    "    else:\n",
    "        long.append(one_word)\n",
    "\n",
    "print(' '.join(short))\n",
    "print(' '.join(long))"
   ]
  },
  {
   "cell_type": "code",
   "execution_count": 103,
   "metadata": {},
   "outputs": [
    {
     "name": "stdin",
     "output_type": "stream",
     "text": [
      "Enter a sentence:  this is a very boring example of my program\n"
     ]
    },
    {
     "name": "stdout",
     "output_type": "stream",
     "text": [
      "is a of my\n",
      "this very boring example program\n"
     ]
    }
   ],
   "source": [
    "# CC\n",
    "\n",
    "short = []\n",
    "long = []\n",
    "\n",
    "sentence = input(f\"Enter a sentence: \").strip()\n",
    "\n",
    "for word in sentence.split():\n",
    "    if len(word) >= 4:\n",
    "        long.append(word)\n",
    "    else:\n",
    "        short.append(word)\n",
    "print(\" \".join(short))\n",
    "print(\" \".join(long))"
   ]
  },
  {
   "cell_type": "code",
   "execution_count": 104,
   "metadata": {},
   "outputs": [
    {
     "name": "stdin",
     "output_type": "stream",
     "text": [
      "Enter a sentence:  this is a very boring example of my program\n"
     ]
    },
    {
     "name": "stdout",
     "output_type": "stream",
     "text": [
      "short words: is a of my\n",
      "long words: this very boring example program\n"
     ]
    }
   ],
   "source": [
    "# TT\n",
    "\n",
    "short = []\n",
    "long = []\n",
    "sentence = input('Enter a sentence: ').strip()\n",
    "for word in sentence.split():\n",
    "    if len(word) < 4:\n",
    "        short.append(word)\n",
    "    else:\n",
    "        long.append(word)\n",
    "print('short words: ' +  ' '.join(short))\n",
    "print('long words: ' + ' '.join(long))"
   ]
  },
  {
   "cell_type": "markdown",
   "metadata": {},
   "source": [
    "# Tuples\n",
    "\n",
    "Let's compare strings and lists:\n",
    "\n",
    "- Strings are immutable (cannot be changed) and contain only characters.\n",
    "- Lists are mutable (can be changed) and contain anything at all.\n",
    "- Tuples are a new data structure that are immutable (like strings) and can contain anything (like lists).\n",
    "\n",
    "You can think of tuples as immutable lists, but the real distinction is supposed to be that tuples can contain any types, and any combination of types, whereas lists are supposed to contain a single type.\n",
    "\n"
   ]
  },
  {
   "cell_type": "code",
   "execution_count": 105,
   "metadata": {},
   "outputs": [
    {
     "data": {
      "text/plain": [
       "tuple"
      ]
     },
     "execution_count": 105,
     "metadata": {},
     "output_type": "execute_result"
    }
   ],
   "source": [
    "t = (10, 20, 30, 40, 50, 60, 70, 80)\n",
    "\n",
    "type(t)"
   ]
  },
  {
   "cell_type": "code",
   "execution_count": 106,
   "metadata": {},
   "outputs": [
    {
     "data": {
      "text/plain": [
       "10"
      ]
     },
     "execution_count": 106,
     "metadata": {},
     "output_type": "execute_result"
    }
   ],
   "source": [
    "# lots of strings/list functionality also works on tuples!\n",
    "# they are all (strings/lists/tuples) part of the \"sequence\" family in Python\n",
    "\n",
    "t[0]"
   ]
  },
  {
   "cell_type": "code",
   "execution_count": 107,
   "metadata": {},
   "outputs": [
    {
     "data": {
      "text/plain": [
       "20"
      ]
     },
     "execution_count": 107,
     "metadata": {},
     "output_type": "execute_result"
    }
   ],
   "source": [
    "t[1]"
   ]
  },
  {
   "cell_type": "code",
   "execution_count": 108,
   "metadata": {},
   "outputs": [
    {
     "data": {
      "text/plain": [
       "80"
      ]
     },
     "execution_count": 108,
     "metadata": {},
     "output_type": "execute_result"
    }
   ],
   "source": [
    "t[-1]"
   ]
  },
  {
   "cell_type": "code",
   "execution_count": 109,
   "metadata": {},
   "outputs": [
    {
     "data": {
      "text/plain": [
       "(40, 50, 60, 70)"
      ]
     },
     "execution_count": 109,
     "metadata": {},
     "output_type": "execute_result"
    }
   ],
   "source": [
    "t[3:7]"
   ]
  },
  {
   "cell_type": "code",
   "execution_count": 110,
   "metadata": {},
   "outputs": [
    {
     "data": {
      "text/plain": [
       "True"
      ]
     },
     "execution_count": 110,
     "metadata": {},
     "output_type": "execute_result"
    }
   ],
   "source": [
    "40 in t"
   ]
  },
  {
   "cell_type": "code",
   "execution_count": 111,
   "metadata": {},
   "outputs": [
    {
     "name": "stdout",
     "output_type": "stream",
     "text": [
      "10\n",
      "20\n",
      "30\n",
      "40\n",
      "50\n",
      "60\n",
      "70\n",
      "80\n"
     ]
    }
   ],
   "source": [
    "for one_item in t:\n",
    "    print(one_item)"
   ]
  },
  {
   "cell_type": "code",
   "execution_count": 112,
   "metadata": {},
   "outputs": [
    {
     "ename": "TypeError",
     "evalue": "'tuple' object does not support item assignment",
     "output_type": "error",
     "traceback": [
      "\u001b[0;31m---------------------------------------------------------------------------\u001b[0m",
      "\u001b[0;31mTypeError\u001b[0m                                 Traceback (most recent call last)",
      "Cell \u001b[0;32mIn[112], line 1\u001b[0m\n\u001b[0;32m----> 1\u001b[0m \u001b[43mt\u001b[49m\u001b[43m[\u001b[49m\u001b[38;5;241;43m0\u001b[39;49m\u001b[43m]\u001b[49m \u001b[38;5;241m=\u001b[39m \u001b[38;5;124m'\u001b[39m\u001b[38;5;124m!\u001b[39m\u001b[38;5;124m'\u001b[39m  \u001b[38;5;66;03m# can we change a tuple?\u001b[39;00m\n",
      "\u001b[0;31mTypeError\u001b[0m: 'tuple' object does not support item assignment"
     ]
    }
   ],
   "source": [
    "t[0] = '!'  # can we change a tuple?"
   ]
  },
  {
   "cell_type": "markdown",
   "metadata": {},
   "source": [
    "# Can't we use lists with different types?\n",
    "\n",
    "Yes. But it's traditional not to. The convention in Python is:\n",
    "\n",
    "- Sequence of the same type? Use a list.\n",
    "- Sequence of mixed types? Use a tuple.\n"
   ]
  },
  {
   "cell_type": "markdown",
   "metadata": {},
   "source": [
    "# What can tuples be used for?\n",
    "\n",
    "Tuples are used where other languages would use either structs or records -- combinations of values that aren't necessarily of the same type. If you retrieve from a database in Python, you'll get a list of tuples, where each tuple contains values from one row of the database.\n",
    "\n",
    "If you call a function, the arguments are passed in a tuple.\n",
    "\n",
    "How often are you going to create/use tuples? Probably not much, certainly in your first year or two of using Python."
   ]
  },
  {
   "cell_type": "markdown",
   "metadata": {},
   "source": [
    "# Tuple unpacking\n",
    "\n",
    "This is a fantastic technique, used everywhere."
   ]
  },
  {
   "cell_type": "code",
   "execution_count": 113,
   "metadata": {},
   "outputs": [
    {
     "data": {
      "text/plain": [
       "[10, 20, 30]"
      ]
     },
     "execution_count": 113,
     "metadata": {},
     "output_type": "execute_result"
    }
   ],
   "source": [
    "mylist = [10, 20, 30] \n",
    "\n",
    "x = mylist  # what is the value of x?\n",
    "\n",
    "x"
   ]
  },
  {
   "cell_type": "code",
   "execution_count": 114,
   "metadata": {},
   "outputs": [],
   "source": [
    "# what if I do this?\n",
    "\n",
    "x,y,z = mylist   # now I'm assigning a tuple of variables to mylist"
   ]
  },
  {
   "cell_type": "code",
   "execution_count": 115,
   "metadata": {},
   "outputs": [
    {
     "data": {
      "text/plain": [
       "10"
      ]
     },
     "execution_count": 115,
     "metadata": {},
     "output_type": "execute_result"
    }
   ],
   "source": [
    "x"
   ]
  },
  {
   "cell_type": "code",
   "execution_count": 116,
   "metadata": {},
   "outputs": [
    {
     "data": {
      "text/plain": [
       "20"
      ]
     },
     "execution_count": 116,
     "metadata": {},
     "output_type": "execute_result"
    }
   ],
   "source": [
    "y"
   ]
  },
  {
   "cell_type": "code",
   "execution_count": 117,
   "metadata": {},
   "outputs": [
    {
     "data": {
      "text/plain": [
       "30"
      ]
     },
     "execution_count": 117,
     "metadata": {},
     "output_type": "execute_result"
    }
   ],
   "source": [
    "z"
   ]
  },
  {
   "cell_type": "code",
   "execution_count": 118,
   "metadata": {},
   "outputs": [
    {
     "ename": "ValueError",
     "evalue": "too many values to unpack (expected 2)",
     "output_type": "error",
     "traceback": [
      "\u001b[0;31m---------------------------------------------------------------------------\u001b[0m",
      "\u001b[0;31mValueError\u001b[0m                                Traceback (most recent call last)",
      "Cell \u001b[0;32mIn[118], line 1\u001b[0m\n\u001b[0;32m----> 1\u001b[0m x,y \u001b[38;5;241m=\u001b[39m mylist\n",
      "\u001b[0;31mValueError\u001b[0m: too many values to unpack (expected 2)"
     ]
    }
   ],
   "source": [
    "x,y = mylist"
   ]
  },
  {
   "cell_type": "code",
   "execution_count": 119,
   "metadata": {},
   "outputs": [
    {
     "ename": "ValueError",
     "evalue": "not enough values to unpack (expected 4, got 3)",
     "output_type": "error",
     "traceback": [
      "\u001b[0;31m---------------------------------------------------------------------------\u001b[0m",
      "\u001b[0;31mValueError\u001b[0m                                Traceback (most recent call last)",
      "Cell \u001b[0;32mIn[119], line 1\u001b[0m\n\u001b[0;32m----> 1\u001b[0m w,x,y,z \u001b[38;5;241m=\u001b[39m mylist\n",
      "\u001b[0;31mValueError\u001b[0m: not enough values to unpack (expected 4, got 3)"
     ]
    }
   ],
   "source": [
    "w,x,y,z = mylist"
   ]
  },
  {
   "cell_type": "code",
   "execution_count": 123,
   "metadata": {},
   "outputs": [],
   "source": [
    "# this is tuple unpacking\n",
    "# because on the LEFT SIDE we have a tuple\n",
    "# (without parentheses) of variables\n",
    "\n",
    "# the right side can contain any iterable value (i.e., something that knows what to do in a for loop)\n",
    "# each element from the right is assigned to one variable on the left\n",
    "\n",
    "x,y,z = mylist"
   ]
  },
  {
   "cell_type": "code",
   "execution_count": 121,
   "metadata": {},
   "outputs": [
    {
     "data": {
      "text/plain": [
       "tuple"
      ]
     },
     "execution_count": 121,
     "metadata": {},
     "output_type": "execute_result"
    }
   ],
   "source": [
    "type( (x,y,z) )"
   ]
  },
  {
   "cell_type": "code",
   "execution_count": null,
   "metadata": {},
   "outputs": [],
   "source": []
  },
  {
   "cell_type": "code",
   "execution_count": 124,
   "metadata": {},
   "outputs": [
    {
     "name": "stdout",
     "output_type": "stream",
     "text": [
      "(0, 'a')\n",
      "(1, 'b')\n",
      "(2, 'c')\n",
      "(3, 'd')\n"
     ]
    }
   ],
   "source": [
    "s = 'abcd'\n",
    "\n",
    "for one_item in enumerate(s):  # really, enumerate(s) returns a 2-element tuple (index, value) with each iteration\n",
    "    print(one_item)"
   ]
  },
  {
   "cell_type": "code",
   "execution_count": 125,
   "metadata": {},
   "outputs": [
    {
     "name": "stdout",
     "output_type": "stream",
     "text": [
      "0: a\n",
      "1: b\n",
      "2: c\n",
      "3: d\n"
     ]
    }
   ],
   "source": [
    "# here, we unpack manually\n",
    "for t in enumerate(s):\n",
    "    index, value = t   # here, I'll unpack the two-element tuple into two separate variables\n",
    "    print(f'{index}: {value}')"
   ]
  },
  {
   "cell_type": "code",
   "execution_count": 126,
   "metadata": {},
   "outputs": [
    {
     "name": "stdout",
     "output_type": "stream",
     "text": [
      "0: a\n",
      "1: b\n",
      "2: c\n",
      "3: d\n"
     ]
    }
   ],
   "source": [
    "# here, we unpack automatically in the \"for\" line\n",
    "for index, value in enumerate(s):\n",
    "    print(f'{index}: {value}')"
   ]
  },
  {
   "cell_type": "code",
   "execution_count": null,
   "metadata": {},
   "outputs": [],
   "source": []
  }
 ],
 "metadata": {
  "kernelspec": {
   "display_name": "Python 3 (ipykernel)",
   "language": "python",
   "name": "python3"
  },
  "language_info": {
   "codemirror_mode": {
    "name": "ipython",
    "version": 3
   },
   "file_extension": ".py",
   "mimetype": "text/x-python",
   "name": "python",
   "nbconvert_exporter": "python",
   "pygments_lexer": "ipython3",
   "version": "3.13.2"
  }
 },
 "nbformat": 4,
 "nbformat_minor": 4
}
